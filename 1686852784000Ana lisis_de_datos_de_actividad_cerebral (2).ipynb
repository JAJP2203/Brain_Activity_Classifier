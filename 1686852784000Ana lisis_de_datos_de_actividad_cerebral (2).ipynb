{
  "nbformat": 4,
  "nbformat_minor": 0,
  "metadata": {
    "colab": {
      "provenance": []
    },
    "kernelspec": {
      "name": "python3",
      "display_name": "Python 3"
    },
    "language_info": {
      "name": "python"
    }
  },
  "cells": [
    {
      "cell_type": "markdown",
      "source": [
        "#Proyecto\n",
        "\n",
        "###Raúl Pérez A01566937\n",
        "###José Antonio Juárez Pacheco A00572186\n",
        "###Mayra Sarahí de Luna Castillo a01635774"
      ],
      "metadata": {
        "id": "vZPEvGumDLqR"
      }
    },
    {
      "cell_type": "markdown",
      "source": [
        "Utiliza la interfaz proporcionada por tu profesor para generar las matrices de características de tus datos, con los cuales vas a trabajar en las siguientes etapas de tu proyecto. En total, debes contar con los siguientes archivos:\n",
        "\n",
        "1. Para el experimento de tareas cognitivas, debes tener 3 archivos de características, uno por cada integrante de tu equipo.\n",
        "\n",
        "2. Para el experimento con el potencial P300, debes tener 2 archivos, de preferencia de sujetos distintos, con los cuales obtengas al menos 0.7 de sensibilidad por clase con la interfaz cerebro-computadora."
      ],
      "metadata": {
        "id": "qrL9ybf5ETy3"
      }
    },
    {
      "cell_type": "code",
      "source": [
        "from google.colab import drive\n",
        "drive.mount('/content/drive')"
      ],
      "metadata": {
        "colab": {
          "base_uri": "https://localhost:8080/"
        },
        "id": "ibasdpEMEVyL",
        "outputId": "0739463a-a56f-4f0e-d8a8-0cfc55e966f2"
      },
      "execution_count": 1,
      "outputs": [
        {
          "output_type": "stream",
          "name": "stdout",
          "text": [
            "Mounted at /content/drive\n"
          ]
        }
      ]
    },
    {
      "cell_type": "markdown",
      "source": [
        "###IMPORTAMOS LIBRERÍAS"
      ],
      "metadata": {
        "id": "msHGyLc9WGKk"
      }
    },
    {
      "cell_type": "code",
      "source": [
        "import numpy as np\n",
        "import pandas as pd\n",
        "import matplotlib.pyplot as plt\n",
        "from sklearn import svm, neighbors\n",
        "from sklearn.svm import SVC, SVR\n",
        "from sklearn.model_selection import StratifiedKFold\n",
        "from sklearn.metrics import classification_report, accuracy_score, recall_score, precision_score\n",
        "from sklearn.feature_selection import SelectKBest, mutual_info_classif, SequentialFeatureSelector, RFE\n",
        "from sklearn.model_selection import train_test_split\n",
        "from sklearn.neural_network import MLPClassifier\n",
        "from sklearn.neighbors import KNeighborsClassifier\n",
        "from sklearn import svm\n",
        "from sklearn.tree import DecisionTreeClassifier\n",
        "from sklearn.ensemble import RandomForestClassifier\n",
        "from sklearn.model_selection import GridSearchCV"
      ],
      "metadata": {
        "id": "tFbtB53ZEm3j"
      },
      "execution_count": 2,
      "outputs": []
    },
    {
      "cell_type": "markdown",
      "source": [
        "###CREAMOS BASE DE DATOS"
      ],
      "metadata": {
        "id": "5bkT53CTWEGP"
      }
    },
    {
      "cell_type": "code",
      "source": [
        "cogR = pd.read_csv(\"/content/drive/MyDrive/Análisis de datos/Datosquefuncionan/ex2verdaderop1raul.txt\", header=None, delimiter = \"\\t\")\n",
        "P300A = pd.read_csv(\"/content/drive/MyDrive/Análisis de datos/Datosquefuncionan/ex1verdaderop2tono.txt\", header=None, delimiter = \"\\t\")\n",
        "cogA = pd.read_csv(\"/content/drive/MyDrive/Análisis de datos/Datosquefuncionan/ex2verdaderop1tono.txt\", header=None, delimiter = \"\\t\")\n",
        "P300M = pd.read_csv(\"/content/drive/MyDrive/Análisis de datos/Datosquefuncionan/ex1verdaderop1mayra.txt\", header=None, delimiter = \"\\t\")\n",
        "cogM = pd.read_csv(\"/content/drive/MyDrive/Análisis de datos/Datosquefuncionan/ex2verdaderop2mayra.txt\", header=None, delimiter = \"\\t\")"
      ],
      "metadata": {
        "id": "NbaOGFJ2Ee8X"
      },
      "execution_count": 3,
      "outputs": []
    },
    {
      "cell_type": "code",
      "source": [
        "cogR = cogR.dropna(axis=1)\n",
        "P300A = P300A.dropna(axis=1)\n",
        "cogA = cogA.dropna(axis=1)\n",
        "P300M = P300M.dropna(axis=1)\n",
        "cogM = cogM.dropna(axis=1)"
      ],
      "metadata": {
        "id": "EEDhiNedVFgl"
      },
      "execution_count": 4,
      "outputs": []
    },
    {
      "cell_type": "markdown",
      "source": [
        "###CREAMOS FUNCIONES CON CLASIFICADORES\n",
        "\n"
      ],
      "metadata": {
        "id": "U_Iv4ALLUSZb"
      }
    },
    {
      "cell_type": "code",
      "source": [
        "#CLASIFICADOR SVM, VISTO EN CLASE\n",
        "def svm_classifier(x, y):\n",
        "\n",
        "    # Separación de datos\n",
        "    x_train, x_test, y_train, y_test = train_test_split(x, y, test_size=0.2, random_state=42)\n",
        "\n",
        "    # Crear un clasificador SVM\n",
        "    classifier = svm.SVC()\n",
        "\n",
        "    # Ajustar el clasificador a los datos de entrenamiento\n",
        "    classifier.fit(x_train, y_train)\n",
        "\n",
        "    # Predecir las etiquetas para los datos de entrenamiento\n",
        "    y_pred = classifier.predict(x_test)\n",
        "\n",
        "    # Imprimir el informe del clasificador\n",
        "    print(classification_report(y_test, y_pred, zero_division=1))\n",
        "\n",
        "#CLASIFICADOR KNN, VISTO EN CLASE\n",
        "def knn_classifier(x, y, k):\n",
        "\n",
        "    # Separación de datos\n",
        "    x_train, x_test, y_train, y_test = train_test_split(x, y, test_size=0.2, random_state=42)\n",
        "\n",
        "    # Crear un clasificador KNN\n",
        "    classifier = KNeighborsClassifier(n_neighbors = int(k))\n",
        "\n",
        "    # Ajustar el clasificador a los datos de entrenamiento\n",
        "    classifier.fit(x_train, y_train)\n",
        "\n",
        "    # Predecir las etiquetas para los datos de entrenamiento\n",
        "    y_pred = classifier.predict(x_test)\n",
        "\n",
        "    # Imprimir el informe del clasificador\n",
        "    print(classification_report(y_test, y_pred, zero_division=1))\n",
        "\n",
        "#CLASIFICADOR MLP, VISTO EN CLASE \n",
        "def perceptron(x , y, capas):\n",
        "\n",
        "  clf = MLPClassifier(hidden_layer_sizes=capas, max_iter=10000)  # hidden_layer_sizes controls the number of neurons of each hidden layer.\n",
        "  clf.fit(x, y)\n",
        "\n",
        "\n",
        "  # 5-fold cross-validation\n",
        "  kf = StratifiedKFold(n_splits=5, shuffle = True)\n",
        "\n",
        "  cv_y_test = []\n",
        "  cv_y_pred = []\n",
        "\n",
        "  for train_index, test_index in kf.split(x, y):\n",
        "\n",
        "      # Training phase\n",
        "      x_train = x[train_index, :]\n",
        "      y_train = y[train_index]\n",
        "\n",
        "      clf_i = MLPClassifier(hidden_layer_sizes=capas, max_iter=10000)\n",
        "      clf_i.fit(x_train, y_train)\n",
        "\n",
        "      # Test phase\n",
        "      x_test = x[test_index, :]\n",
        "      y_test = y[test_index]    \n",
        "      y_pred = clf_i.predict(x_test)\n",
        "\n",
        "      cv_y_test.append(y_test)\n",
        "      cv_y_pred.append(y_pred)\n",
        "\n",
        "      print(classification_report(y_test, y_pred, zero_division=1))\n",
        "\n",
        "  # Model performance\n",
        "  print(\"Resultados del clasificador:\\n\\n\", classification_report(np.concatenate(cv_y_test), np.concatenate(cv_y_pred)))\n",
        "\n",
        "#CLASIFICADOR DECISION TREE CLASSIFIER, NO VISTO EN CLASE \n",
        "def DTC_classifier(x, y):\n",
        "\n",
        "    # Separación de datos\n",
        "    x_train, x_test, y_train, y_test = train_test_split(x, y, test_size=0.2, random_state=42)\n",
        "\n",
        "    # Crear un clasificador DTC\n",
        "    classifier = DecisionTreeClassifier(random_state=0)\n",
        "\n",
        "    # Ajustar el clasificador a los datos de entrenamiento\n",
        "    classifier.fit(x_train, y_train)\n",
        "\n",
        "    # Predecir las etiquetas para los datos de entrenamiento\n",
        "    y_pred = classifier.predict(x_test)\n",
        "\n",
        "    # Imprimir el informe del clasificador\n",
        "    print(classification_report(y_test, y_pred, zero_division=1))\n",
        "\n",
        "#CLASIFICADOR RANDOM FOREST CLASSIFIER, NO VISTO EN CLASE \n",
        "def RFC_classifier(x, y):\n",
        "\n",
        "    # Separación de datos\n",
        "    x_train, x_test, y_train, y_test = train_test_split(x, y, test_size=0.2, random_state=42)\n",
        "\n",
        "    # Crear un clasificador RFC\n",
        "    classifier = RandomForestClassifier()\n",
        "\n",
        "    # Ajustar el clasificador a los datos de entrenamiento\n",
        "    classifier.fit(x_train, y_train)\n",
        "\n",
        "    # Predecir las etiquetas para los datos de entrenamiento\n",
        "    y_pred = classifier.predict(x_test)\n",
        "\n",
        "    # Imprimir el informe del clasificador\n",
        "    print(classification_report(y_test, y_pred, zero_division=1))"
      ],
      "metadata": {
        "id": "58P6dW05UUU4"
      },
      "execution_count": 5,
      "outputs": []
    },
    {
      "cell_type": "markdown",
      "source": [
        "Evaluación de algoritmos de clasificación\n",
        "\n",
        "Para esta etapa del proyecto considera los siguientes casos:\n",
        "\n",
        "- Clasificación de potencial P300 vs no potencial P300. En este caso, deben de tener al menos 2 archivos de características.\n",
        "\n",
        "- Clasificación de no tarea cognitiva (cruz) vs tarea cognitiva. En este caso, deben tener al menos 3 archivos de características.\n",
        "\n",
        "- Clasificación de tarea de cálculo (9-12) vs tarea de lectura (5-8) vs tarea de nombres de cosas (1-4). En este caso, deben tener al menos 3 archivos de datos.\n"
      ],
      "metadata": {
        "id": "I1n--dvXDway"
      }
    },
    {
      "cell_type": "markdown",
      "source": [
        "## Puntos 1 y 2: \n",
        "\n",
        "1. Evalúe el rendimiento de los modelos de clasificación SVM, K-NN, y MLP (de al menos 2 capas). Calcule tanto la exactitud, la precisión por clase y el recall por clase para cada uno de los modelos.\n",
        "\n",
        "2. Seleccione dos modelos de clasificación no vistos en clase, y evalúelos con sus conjuntos de datos. Calcule tanto la exactitud, la precisión por clase y el recall por clase para cada uno de los modelos."
      ],
      "metadata": {
        "id": "_T96ONtkBjK4"
      }
    },
    {
      "cell_type": "markdown",
      "source": [
        "###Clasificación de potencial P300 vs no potencial P300"
      ],
      "metadata": {
        "id": "a_UG_OTfcktg"
      }
    },
    {
      "cell_type": "code",
      "source": [
        "# Datos de entrenamiento: P300 ANTONIO\n",
        "xA = P300A.iloc[:,1:].values\n",
        "yA = P300A.iloc[:,0].values\n",
        "\n",
        "# Datos de entrenamiento: P300 MAYRA\n",
        "xM = P300M.iloc[:,1:].values\n",
        "yM = P300M.iloc[:,0].values\n"
      ],
      "metadata": {
        "id": "OVlEZBuDZk5A"
      },
      "execution_count": 6,
      "outputs": []
    },
    {
      "cell_type": "markdown",
      "source": [
        "ANTONIO P300:\n",
        "\n",
        "\n",
        "\n"
      ],
      "metadata": {
        "id": "lmg2TNxCc8Pj"
      }
    },
    {
      "cell_type": "code",
      "source": [
        "print(\"SVM\")\n",
        "svm_classifier(xA, yA)\n",
        "print(\"KNN\")\n",
        "knn_classifier(xA, yA, 8)\n",
        "print(\"MLP\")\n",
        "perceptron(xA, yA, 3)\n",
        "print(\"Decision Tree\")\n",
        "DTC_classifier(xA, yA)\n",
        "print(\"Random Forest\")\n",
        "RFC_classifier(xA, yA)"
      ],
      "metadata": {
        "colab": {
          "base_uri": "https://localhost:8080/"
        },
        "id": "zNr5uLYDF0-Y",
        "outputId": "060ffa13-896c-453f-d6ce-a23b7793d64b"
      },
      "execution_count": 7,
      "outputs": [
        {
          "output_type": "stream",
          "name": "stdout",
          "text": [
            "SVM\n",
            "              precision    recall  f1-score   support\n",
            "\n",
            "           1       0.89      0.56      0.69        57\n",
            "           2       0.90      0.98      0.94       222\n",
            "\n",
            "    accuracy                           0.90       279\n",
            "   macro avg       0.89      0.77      0.81       279\n",
            "weighted avg       0.90      0.90      0.89       279\n",
            "\n",
            "KNN\n",
            "              precision    recall  f1-score   support\n",
            "\n",
            "           1       0.68      0.30      0.41        57\n",
            "           2       0.84      0.96      0.90       222\n",
            "\n",
            "    accuracy                           0.83       279\n",
            "   macro avg       0.76      0.63      0.66       279\n",
            "weighted avg       0.81      0.83      0.80       279\n",
            "\n",
            "MLP\n",
            "              precision    recall  f1-score   support\n",
            "\n",
            "           1       0.62      0.62      0.62        56\n",
            "           2       0.91      0.91      0.91       223\n",
            "\n",
            "    accuracy                           0.85       279\n",
            "   macro avg       0.77      0.77      0.77       279\n",
            "weighted avg       0.85      0.85      0.85       279\n",
            "\n",
            "              precision    recall  f1-score   support\n",
            "\n",
            "           1       0.68      0.68      0.68        56\n",
            "           2       0.92      0.92      0.92       223\n",
            "\n",
            "    accuracy                           0.87       279\n",
            "   macro avg       0.80      0.80      0.80       279\n",
            "weighted avg       0.87      0.87      0.87       279\n",
            "\n",
            "              precision    recall  f1-score   support\n",
            "\n",
            "           1       0.63      0.66      0.64        56\n",
            "           2       0.91      0.90      0.91       223\n",
            "\n",
            "    accuracy                           0.85       279\n",
            "   macro avg       0.77      0.78      0.78       279\n",
            "weighted avg       0.86      0.85      0.85       279\n",
            "\n",
            "              precision    recall  f1-score   support\n",
            "\n",
            "           1       0.65      0.62      0.64        56\n",
            "           2       0.91      0.91      0.91       223\n",
            "\n",
            "    accuracy                           0.86       279\n",
            "   macro avg       0.78      0.77      0.77       279\n",
            "weighted avg       0.85      0.86      0.86       279\n",
            "\n",
            "              precision    recall  f1-score   support\n",
            "\n",
            "           1       0.60      0.62      0.61        55\n",
            "           2       0.91      0.90      0.90       224\n",
            "\n",
            "    accuracy                           0.84       279\n",
            "   macro avg       0.75      0.76      0.75       279\n",
            "weighted avg       0.84      0.84      0.84       279\n",
            "\n",
            "Resultados del clasificador:\n",
            "\n",
            "               precision    recall  f1-score   support\n",
            "\n",
            "           1       0.63      0.64      0.64       279\n",
            "           2       0.91      0.91      0.91      1116\n",
            "\n",
            "    accuracy                           0.85      1395\n",
            "   macro avg       0.77      0.77      0.77      1395\n",
            "weighted avg       0.86      0.85      0.85      1395\n",
            "\n",
            "Decision Tree\n",
            "              precision    recall  f1-score   support\n",
            "\n",
            "           1       0.43      0.46      0.44        57\n",
            "           2       0.86      0.85      0.85       222\n",
            "\n",
            "    accuracy                           0.77       279\n",
            "   macro avg       0.65      0.65      0.65       279\n",
            "weighted avg       0.77      0.77      0.77       279\n",
            "\n",
            "Random Forest\n",
            "              precision    recall  f1-score   support\n",
            "\n",
            "           1       0.94      0.30      0.45        57\n",
            "           2       0.85      1.00      0.92       222\n",
            "\n",
            "    accuracy                           0.85       279\n",
            "   macro avg       0.90      0.65      0.68       279\n",
            "weighted avg       0.87      0.85      0.82       279\n",
            "\n"
          ]
        }
      ]
    },
    {
      "cell_type": "markdown",
      "source": [
        "MAYRA P300:\n",
        "\n",
        "\n"
      ],
      "metadata": {
        "id": "YjY3KofNd8ss"
      }
    },
    {
      "cell_type": "code",
      "source": [
        "print(\"SVM\")\n",
        "svm_classifier(xM, yM)\n",
        "print(\"KNN\")\n",
        "knn_classifier(xM, yM, 8)\n",
        "print(\"MLP\")\n",
        "perceptron(xM, yM, 3)\n",
        "print(\"Decision Tree\")\n",
        "DTC_classifier(xM, yM)\n",
        "print(\"Random Forest\")\n",
        "RFC_classifier(xM, yM)"
      ],
      "metadata": {
        "colab": {
          "base_uri": "https://localhost:8080/"
        },
        "id": "xnhNS7OhGFSS",
        "outputId": "b30d81b4-96ca-412b-a2e2-af14fc7d70e5"
      },
      "execution_count": 8,
      "outputs": [
        {
          "output_type": "stream",
          "name": "stdout",
          "text": [
            "SVM\n",
            "              precision    recall  f1-score   support\n",
            "\n",
            "           1       1.00      0.27      0.42        26\n",
            "           2       0.78      1.00      0.87        66\n",
            "\n",
            "    accuracy                           0.79        92\n",
            "   macro avg       0.89      0.63      0.65        92\n",
            "weighted avg       0.84      0.79      0.75        92\n",
            "\n",
            "KNN\n",
            "              precision    recall  f1-score   support\n",
            "\n",
            "           1       0.67      0.08      0.14        26\n",
            "           2       0.73      0.98      0.84        66\n",
            "\n",
            "    accuracy                           0.73        92\n",
            "   macro avg       0.70      0.53      0.49        92\n",
            "weighted avg       0.71      0.73      0.64        92\n",
            "\n",
            "MLP\n",
            "              precision    recall  f1-score   support\n",
            "\n",
            "           1       0.53      0.53      0.53        19\n",
            "           2       0.88      0.88      0.88        73\n",
            "\n",
            "    accuracy                           0.80        92\n",
            "   macro avg       0.70      0.70      0.70        92\n",
            "weighted avg       0.80      0.80      0.80        92\n",
            "\n",
            "              precision    recall  f1-score   support\n",
            "\n",
            "           1       0.44      0.42      0.43        19\n",
            "           2       0.85      0.86      0.86        72\n",
            "\n",
            "    accuracy                           0.77        91\n",
            "   macro avg       0.65      0.64      0.64        91\n",
            "weighted avg       0.76      0.77      0.77        91\n",
            "\n",
            "              precision    recall  f1-score   support\n",
            "\n",
            "           1       0.67      0.56      0.61        18\n",
            "           2       0.89      0.93      0.91        73\n",
            "\n",
            "    accuracy                           0.86        91\n",
            "   macro avg       0.78      0.74      0.76        91\n",
            "weighted avg       0.85      0.86      0.85        91\n",
            "\n",
            "              precision    recall  f1-score   support\n",
            "\n",
            "           1       0.59      0.72      0.65        18\n",
            "           2       0.93      0.88      0.90        73\n",
            "\n",
            "    accuracy                           0.85        91\n",
            "   macro avg       0.76      0.80      0.78        91\n",
            "weighted avg       0.86      0.85      0.85        91\n",
            "\n",
            "              precision    recall  f1-score   support\n",
            "\n",
            "           1       0.50      0.61      0.55        18\n",
            "           2       0.90      0.85      0.87        73\n",
            "\n",
            "    accuracy                           0.80        91\n",
            "   macro avg       0.70      0.73      0.71        91\n",
            "weighted avg       0.82      0.80      0.81        91\n",
            "\n",
            "Resultados del clasificador:\n",
            "\n",
            "               precision    recall  f1-score   support\n",
            "\n",
            "           1       0.54      0.57      0.55        92\n",
            "           2       0.89      0.88      0.88       364\n",
            "\n",
            "    accuracy                           0.82       456\n",
            "   macro avg       0.72      0.72      0.72       456\n",
            "weighted avg       0.82      0.82      0.82       456\n",
            "\n",
            "Decision Tree\n",
            "              precision    recall  f1-score   support\n",
            "\n",
            "           1       0.45      0.35      0.39        26\n",
            "           2       0.76      0.83      0.80        66\n",
            "\n",
            "    accuracy                           0.70        92\n",
            "   macro avg       0.61      0.59      0.59        92\n",
            "weighted avg       0.68      0.70      0.68        92\n",
            "\n",
            "Random Forest\n",
            "              precision    recall  f1-score   support\n",
            "\n",
            "           1       0.75      0.12      0.20        26\n",
            "           2       0.74      0.98      0.84        66\n",
            "\n",
            "    accuracy                           0.74        92\n",
            "   macro avg       0.74      0.55      0.52        92\n",
            "weighted avg       0.74      0.74      0.66        92\n",
            "\n"
          ]
        }
      ]
    },
    {
      "cell_type": "markdown",
      "source": [
        "###Clasificación de tarea de cálculo (9-12) vs tarea de lectura (5-8) vs tarea de nombres de cosas (1-4)"
      ],
      "metadata": {
        "id": "b_RiK16rlsIV"
      }
    },
    {
      "cell_type": "code",
      "source": [
        "transformacion = lambda x: 1 if 1 <= x <= 4 else 2 if 5 <= x <= 8 else 3 if 9 <= x <= 12 else 4\n",
        "\n",
        "# Datos de entrenamiento: COGNITIVO ANTONIO\n",
        "cogA[0] = cogA[0].map(transformacion)\n",
        "\n",
        "xAc = cogA.iloc[:,1:].values\n",
        "yAc = cogA.iloc[:,0].values\n",
        "\n",
        "# Datos de entrenamiento: COGNITIVO MAYRA\n",
        "cogM[0] = cogM[0].map(transformacion)\n",
        "\n",
        "xMc = cogM.iloc[:,1:].values\n",
        "yMc = cogM.iloc[:,0].values\n",
        "\n",
        "# Datos de entrenamiento: COGNITIVO RAUL\n",
        "cogR[0] = cogR[0].map(transformacion)\n",
        "\n",
        "xRc = cogR.iloc[:,1:].values\n",
        "yRc = cogR.iloc[:,0].values"
      ],
      "metadata": {
        "id": "3Lki6Irbl1FW"
      },
      "execution_count": 9,
      "outputs": []
    },
    {
      "cell_type": "markdown",
      "source": [
        "Tareas cognitivas Antonio"
      ],
      "metadata": {
        "id": "SQQ8i7LSDvCx"
      }
    },
    {
      "cell_type": "code",
      "source": [
        "print(\"SVM\")\n",
        "svm_classifier(xAc, yAc)\n",
        "print(\"KNN\")\n",
        "knn_classifier(xAc, yAc, 8)\n",
        "print(\"MLP\")\n",
        "perceptron(xAc, yAc, 3)\n",
        "print(\"Decision Tree\")\n",
        "DTC_classifier(xAc, yAc)\n",
        "print(\"Random Forest\")\n",
        "RFC_classifier(xAc, yAc)"
      ],
      "metadata": {
        "colab": {
          "base_uri": "https://localhost:8080/"
        },
        "id": "h7lVwXTjFV5I",
        "outputId": "692fc870-a7d6-4ab3-f454-700dd57067da"
      },
      "execution_count": 10,
      "outputs": [
        {
          "output_type": "stream",
          "name": "stdout",
          "text": [
            "SVM\n",
            "              precision    recall  f1-score   support\n",
            "\n",
            "           1       0.40      0.17      0.24        12\n",
            "           2       0.33      0.22      0.27         9\n",
            "           3       0.75      0.19      0.30        16\n",
            "           4       0.41      0.89      0.57        19\n",
            "\n",
            "    accuracy                           0.43        56\n",
            "   macro avg       0.47      0.37      0.34        56\n",
            "weighted avg       0.49      0.43      0.37        56\n",
            "\n",
            "KNN\n",
            "              precision    recall  f1-score   support\n",
            "\n",
            "           1       0.20      0.17      0.18        12\n",
            "           2       0.30      0.67      0.41         9\n",
            "           3       0.44      0.25      0.32        16\n",
            "           4       0.65      0.58      0.61        19\n",
            "\n",
            "    accuracy                           0.41        56\n",
            "   macro avg       0.40      0.42      0.38        56\n",
            "weighted avg       0.44      0.41      0.40        56\n",
            "\n",
            "MLP\n",
            "              precision    recall  f1-score   support\n",
            "\n",
            "           1       1.00      0.00      0.00        12\n",
            "           2       1.00      0.00      0.00        11\n",
            "           3       1.00      0.00      0.00        11\n",
            "           4       0.39      1.00      0.56        22\n",
            "\n",
            "    accuracy                           0.39        56\n",
            "   macro avg       0.85      0.25      0.14        56\n",
            "weighted avg       0.76      0.39      0.22        56\n",
            "\n",
            "              precision    recall  f1-score   support\n",
            "\n",
            "           1       1.00      0.00      0.00        11\n",
            "           2       1.00      0.00      0.00        12\n",
            "           3       1.00      0.00      0.00        11\n",
            "           4       0.38      1.00      0.55        21\n",
            "\n",
            "    accuracy                           0.38        55\n",
            "   macro avg       0.85      0.25      0.14        55\n",
            "weighted avg       0.76      0.38      0.21        55\n",
            "\n",
            "              precision    recall  f1-score   support\n",
            "\n",
            "           1       1.00      0.00      0.00        11\n",
            "           2       1.00      0.00      0.00        11\n",
            "           3       1.00      0.00      0.00        12\n",
            "           4       0.38      1.00      0.55        21\n",
            "\n",
            "    accuracy                           0.38        55\n",
            "   macro avg       0.85      0.25      0.14        55\n",
            "weighted avg       0.76      0.38      0.21        55\n",
            "\n",
            "              precision    recall  f1-score   support\n",
            "\n",
            "           1       0.67      0.18      0.29        11\n",
            "           2       1.00      0.00      0.00        11\n",
            "           3       0.00      0.00      0.00        11\n",
            "           4       0.39      0.91      0.55        22\n",
            "\n",
            "    accuracy                           0.40        55\n",
            "   macro avg       0.51      0.27      0.21        55\n",
            "weighted avg       0.49      0.40      0.28        55\n",
            "\n",
            "              precision    recall  f1-score   support\n",
            "\n",
            "           1       1.00      0.00      0.00        11\n",
            "           2       1.00      0.00      0.00        11\n",
            "           3       1.00      0.00      0.00        11\n",
            "           4       0.40      1.00      0.57        22\n",
            "\n",
            "    accuracy                           0.40        55\n",
            "   macro avg       0.85      0.25      0.14        55\n",
            "weighted avg       0.76      0.40      0.23        55\n",
            "\n",
            "Resultados del clasificador:\n",
            "\n",
            "               precision    recall  f1-score   support\n",
            "\n",
            "           1       0.67      0.04      0.07        56\n",
            "           2       0.00      0.00      0.00        56\n",
            "           3       0.00      0.00      0.00        56\n",
            "           4       0.39      0.98      0.56       108\n",
            "\n",
            "    accuracy                           0.39       276\n",
            "   macro avg       0.26      0.25      0.16       276\n",
            "weighted avg       0.29      0.39      0.23       276\n",
            "\n",
            "Decision Tree\n",
            "              precision    recall  f1-score   support\n",
            "\n",
            "           1       0.17      0.17      0.17        12\n",
            "           2       0.38      0.56      0.45         9\n",
            "           3       0.50      0.44      0.47        16\n",
            "           4       0.47      0.42      0.44        19\n",
            "\n",
            "    accuracy                           0.39        56\n",
            "   macro avg       0.38      0.40      0.38        56\n",
            "weighted avg       0.40      0.39      0.39        56\n",
            "\n",
            "Random Forest\n"
          ]
        },
        {
          "output_type": "stream",
          "name": "stderr",
          "text": [
            "/usr/local/lib/python3.10/dist-packages/sklearn/metrics/_classification.py:1344: UndefinedMetricWarning: Precision and F-score are ill-defined and being set to 0.0 in labels with no predicted samples. Use `zero_division` parameter to control this behavior.\n",
            "  _warn_prf(average, modifier, msg_start, len(result))\n",
            "/usr/local/lib/python3.10/dist-packages/sklearn/metrics/_classification.py:1344: UndefinedMetricWarning: Precision and F-score are ill-defined and being set to 0.0 in labels with no predicted samples. Use `zero_division` parameter to control this behavior.\n",
            "  _warn_prf(average, modifier, msg_start, len(result))\n",
            "/usr/local/lib/python3.10/dist-packages/sklearn/metrics/_classification.py:1344: UndefinedMetricWarning: Precision and F-score are ill-defined and being set to 0.0 in labels with no predicted samples. Use `zero_division` parameter to control this behavior.\n",
            "  _warn_prf(average, modifier, msg_start, len(result))\n"
          ]
        },
        {
          "output_type": "stream",
          "name": "stdout",
          "text": [
            "              precision    recall  f1-score   support\n",
            "\n",
            "           1       0.27      0.25      0.26        12\n",
            "           2       0.44      0.78      0.56         9\n",
            "           3       0.50      0.06      0.11        16\n",
            "           4       0.56      0.79      0.65        19\n",
            "\n",
            "    accuracy                           0.46        56\n",
            "   macro avg       0.44      0.47      0.40        56\n",
            "weighted avg       0.46      0.46      0.40        56\n",
            "\n"
          ]
        }
      ]
    },
    {
      "cell_type": "markdown",
      "source": [
        "Tareas cognitivas Mayra"
      ],
      "metadata": {
        "id": "VpzJLHRKFTBc"
      }
    },
    {
      "cell_type": "code",
      "source": [
        "print(\"SVM\")\n",
        "svm_classifier(xMc, yMc)\n",
        "print(\"KNN\")\n",
        "knn_classifier(xMc, yMc, 8)\n",
        "print(\"MLP\")\n",
        "perceptron(xMc, yMc, 3)\n",
        "print(\"Decision Tree\")\n",
        "DTC_classifier(xMc, yMc)\n",
        "print(\"Random Forest\")\n",
        "RFC_classifier(xMc, yMc)"
      ],
      "metadata": {
        "colab": {
          "base_uri": "https://localhost:8080/"
        },
        "id": "9hBPAcg-FjmQ",
        "outputId": "e31a67c1-9966-4c93-ee49-98d6bb8c5c36"
      },
      "execution_count": 11,
      "outputs": [
        {
          "output_type": "stream",
          "name": "stdout",
          "text": [
            "SVM\n",
            "              precision    recall  f1-score   support\n",
            "\n",
            "           1       1.00      0.00      0.00        11\n",
            "           2       0.82      0.90      0.86        10\n",
            "           3       1.00      0.15      0.27        13\n",
            "           4       0.48      0.95      0.63        21\n",
            "\n",
            "    accuracy                           0.56        55\n",
            "   macro avg       0.82      0.50      0.44        55\n",
            "weighted avg       0.77      0.56      0.46        55\n",
            "\n",
            "KNN\n",
            "              precision    recall  f1-score   support\n",
            "\n",
            "           1       0.00      0.00      0.00        11\n",
            "           2       0.75      0.90      0.82        10\n",
            "           3       0.71      0.38      0.50        13\n",
            "           4       0.51      0.86      0.64        21\n",
            "\n",
            "    accuracy                           0.58        55\n",
            "   macro avg       0.49      0.54      0.49        55\n",
            "weighted avg       0.50      0.58      0.51        55\n",
            "\n",
            "MLP\n",
            "              precision    recall  f1-score   support\n",
            "\n",
            "           1       1.00      0.00      0.00        12\n",
            "           2       0.58      0.64      0.61        11\n",
            "           3       0.00      0.00      0.00        11\n",
            "           4       0.50      1.00      0.67        21\n",
            "\n",
            "    accuracy                           0.51        55\n",
            "   macro avg       0.52      0.41      0.32        55\n",
            "weighted avg       0.53      0.51      0.38        55\n",
            "\n",
            "              precision    recall  f1-score   support\n",
            "\n",
            "           1       1.00      0.00      0.00        11\n",
            "           2       0.67      0.67      0.67        12\n",
            "           3       1.00      0.00      0.00        11\n",
            "           4       0.47      0.95      0.62        21\n",
            "\n",
            "    accuracy                           0.51        55\n",
            "   macro avg       0.78      0.40      0.32        55\n",
            "weighted avg       0.72      0.51      0.38        55\n",
            "\n",
            "              precision    recall  f1-score   support\n",
            "\n",
            "           1       1.00      0.00      0.00        11\n",
            "           2       1.00      0.00      0.00        11\n",
            "           3       1.00      0.00      0.00        12\n",
            "           4       0.38      1.00      0.55        21\n",
            "\n",
            "    accuracy                           0.38        55\n",
            "   macro avg       0.85      0.25      0.14        55\n",
            "weighted avg       0.76      0.38      0.21        55\n",
            "\n",
            "              precision    recall  f1-score   support\n",
            "\n",
            "           1       1.00      0.00      0.00        11\n",
            "           2       1.00      0.00      0.00        11\n",
            "           3       1.00      0.00      0.00        11\n",
            "           4       0.40      1.00      0.57        22\n",
            "\n",
            "    accuracy                           0.40        55\n",
            "   macro avg       0.85      0.25      0.14        55\n",
            "weighted avg       0.76      0.40      0.23        55\n",
            "\n",
            "              precision    recall  f1-score   support\n",
            "\n",
            "           1       1.00      0.00      0.00        11\n",
            "           2       1.00      0.18      0.31        11\n",
            "           3       1.00      0.00      0.00        11\n",
            "           4       0.42      1.00      0.59        22\n",
            "\n",
            "    accuracy                           0.44        55\n",
            "   macro avg       0.85      0.30      0.22        55\n",
            "weighted avg       0.77      0.44      0.30        55\n",
            "\n",
            "Resultados del clasificador:\n",
            "\n",
            "               precision    recall  f1-score   support\n",
            "\n",
            "           1       0.00      0.00      0.00        56\n",
            "           2       0.65      0.30      0.41        56\n",
            "           3       0.00      0.00      0.00        56\n",
            "           4       0.43      0.99      0.60       107\n",
            "\n",
            "    accuracy                           0.45       275\n",
            "   macro avg       0.27      0.32      0.25       275\n",
            "weighted avg       0.30      0.45      0.32       275\n",
            "\n",
            "Decision Tree\n"
          ]
        },
        {
          "output_type": "stream",
          "name": "stderr",
          "text": [
            "/usr/local/lib/python3.10/dist-packages/sklearn/metrics/_classification.py:1344: UndefinedMetricWarning: Precision and F-score are ill-defined and being set to 0.0 in labels with no predicted samples. Use `zero_division` parameter to control this behavior.\n",
            "  _warn_prf(average, modifier, msg_start, len(result))\n",
            "/usr/local/lib/python3.10/dist-packages/sklearn/metrics/_classification.py:1344: UndefinedMetricWarning: Precision and F-score are ill-defined and being set to 0.0 in labels with no predicted samples. Use `zero_division` parameter to control this behavior.\n",
            "  _warn_prf(average, modifier, msg_start, len(result))\n",
            "/usr/local/lib/python3.10/dist-packages/sklearn/metrics/_classification.py:1344: UndefinedMetricWarning: Precision and F-score are ill-defined and being set to 0.0 in labels with no predicted samples. Use `zero_division` parameter to control this behavior.\n",
            "  _warn_prf(average, modifier, msg_start, len(result))\n"
          ]
        },
        {
          "output_type": "stream",
          "name": "stdout",
          "text": [
            "              precision    recall  f1-score   support\n",
            "\n",
            "           1       0.25      0.36      0.30        11\n",
            "           2       0.64      0.70      0.67        10\n",
            "           3       0.60      0.46      0.52        13\n",
            "           4       0.72      0.62      0.67        21\n",
            "\n",
            "    accuracy                           0.55        55\n",
            "   macro avg       0.55      0.54      0.54        55\n",
            "weighted avg       0.58      0.55      0.56        55\n",
            "\n",
            "Random Forest\n",
            "              precision    recall  f1-score   support\n",
            "\n",
            "           1       0.60      0.27      0.37        11\n",
            "           2       0.90      0.90      0.90        10\n",
            "           3       0.71      0.38      0.50        13\n",
            "           4       0.55      0.86      0.67        21\n",
            "\n",
            "    accuracy                           0.64        55\n",
            "   macro avg       0.69      0.60      0.61        55\n",
            "weighted avg       0.66      0.64      0.61        55\n",
            "\n"
          ]
        }
      ]
    },
    {
      "cell_type": "markdown",
      "source": [
        "Tareas cognitivas Raul"
      ],
      "metadata": {
        "id": "-vIBkTNtFUNd"
      }
    },
    {
      "cell_type": "code",
      "source": [
        "print(\"SVM\")\n",
        "svm_classifier(xRc, yRc)\n",
        "print(\"KNN\")\n",
        "knn_classifier(xRc, yRc, 8)\n",
        "print(\"MLP\")\n",
        "perceptron(xRc, yRc, 3)\n",
        "print(\"Decision Tree\")\n",
        "DTC_classifier(xRc, yRc)\n",
        "print(\"Random Forest\")\n",
        "RFC_classifier(xRc, yRc)"
      ],
      "metadata": {
        "colab": {
          "base_uri": "https://localhost:8080/"
        },
        "id": "kp4Py2xSFRm_",
        "outputId": "1462b5f3-11ea-4d33-9c40-20cbcdbb29f0"
      },
      "execution_count": 12,
      "outputs": [
        {
          "output_type": "stream",
          "name": "stdout",
          "text": [
            "SVM\n",
            "              precision    recall  f1-score   support\n",
            "\n",
            "           1       1.00      0.00      0.00        11\n",
            "           2       1.00      0.00      0.00        10\n",
            "           3       1.00      0.00      0.00        13\n",
            "           4       0.38      1.00      0.55        21\n",
            "\n",
            "    accuracy                           0.38        55\n",
            "   macro avg       0.85      0.25      0.14        55\n",
            "weighted avg       0.76      0.38      0.21        55\n",
            "\n",
            "KNN\n",
            "              precision    recall  f1-score   support\n",
            "\n",
            "           1       0.70      0.64      0.67        11\n",
            "           2       1.00      0.90      0.95        10\n",
            "           3       0.75      0.23      0.35        13\n",
            "           4       0.59      0.90      0.72        21\n",
            "\n",
            "    accuracy                           0.69        55\n",
            "   macro avg       0.76      0.67      0.67        55\n",
            "weighted avg       0.73      0.69      0.66        55\n",
            "\n",
            "MLP\n",
            "              precision    recall  f1-score   support\n",
            "\n",
            "           1       1.00      0.00      0.00        12\n",
            "           2       1.00      0.00      0.00        11\n",
            "           3       0.00      0.00      0.00        11\n",
            "           4       0.36      0.90      0.51        21\n",
            "\n",
            "    accuracy                           0.35        55\n",
            "   macro avg       0.59      0.23      0.13        55\n",
            "weighted avg       0.56      0.35      0.20        55\n",
            "\n",
            "              precision    recall  f1-score   support\n",
            "\n",
            "           1       0.00      0.00      0.00        11\n",
            "           2       0.83      0.83      0.83        12\n",
            "           3       1.00      0.00      0.00        11\n",
            "           4       0.45      0.90      0.60        21\n",
            "\n",
            "    accuracy                           0.53        55\n",
            "   macro avg       0.57      0.43      0.36        55\n",
            "weighted avg       0.55      0.53      0.41        55\n",
            "\n",
            "              precision    recall  f1-score   support\n",
            "\n",
            "           1       0.00      0.00      0.00        11\n",
            "           2       0.37      0.91      0.53        11\n",
            "           3       0.00      0.00      0.00        12\n",
            "           4       0.62      0.76      0.68        21\n",
            "\n",
            "    accuracy                           0.47        55\n",
            "   macro avg       0.25      0.42      0.30        55\n",
            "weighted avg       0.31      0.47      0.37        55\n",
            "\n",
            "              precision    recall  f1-score   support\n",
            "\n",
            "           1       0.33      0.09      0.14        11\n",
            "           2       0.53      0.91      0.67        11\n",
            "           3       0.67      0.18      0.29        11\n",
            "           4       0.62      0.86      0.72        21\n",
            "\n",
            "    accuracy                           0.57        54\n",
            "   macro avg       0.54      0.51      0.45        54\n",
            "weighted avg       0.55      0.57      0.50        54\n",
            "\n",
            "              precision    recall  f1-score   support\n",
            "\n",
            "           1       1.00      0.00      0.00        11\n",
            "           2       0.64      0.82      0.72        11\n",
            "           3       1.00      0.09      0.17        11\n",
            "           4       0.54      1.00      0.70        21\n",
            "\n",
            "    accuracy                           0.57        54\n",
            "   macro avg       0.80      0.48      0.40        54\n",
            "weighted avg       0.75      0.57      0.45        54\n",
            "\n",
            "Resultados del clasificador:\n",
            "\n",
            "               precision    recall  f1-score   support\n",
            "\n",
            "           1       0.20      0.02      0.03        56\n",
            "           2       0.54      0.70      0.61        56\n",
            "           3       0.43      0.05      0.10        56\n",
            "           4       0.49      0.89      0.63       105\n",
            "\n",
            "    accuracy                           0.50       273\n",
            "   macro avg       0.42      0.41      0.34       273\n",
            "weighted avg       0.43      0.50      0.39       273\n",
            "\n",
            "Decision Tree\n",
            "              precision    recall  f1-score   support\n",
            "\n",
            "           1       0.30      0.27      0.29        11\n",
            "           2       0.71      0.50      0.59        10\n",
            "           3       0.43      0.46      0.44        13\n",
            "           4       0.58      0.67      0.62        21\n",
            "\n",
            "    accuracy                           0.51        55\n",
            "   macro avg       0.51      0.48      0.49        55\n",
            "weighted avg       0.51      0.51      0.51        55\n",
            "\n",
            "Random Forest\n",
            "              precision    recall  f1-score   support\n",
            "\n",
            "           1       0.82      0.82      0.82        11\n",
            "           2       0.91      1.00      0.95        10\n",
            "           3       0.50      0.31      0.38        13\n",
            "           4       0.68      0.81      0.74        21\n",
            "\n",
            "    accuracy                           0.73        55\n",
            "   macro avg       0.73      0.73      0.72        55\n",
            "weighted avg       0.71      0.73      0.71        55\n",
            "\n"
          ]
        }
      ]
    },
    {
      "cell_type": "markdown",
      "source": [
        "###Clasificación de no tarea cognitiva (cruz) vs tarea cognitiva"
      ],
      "metadata": {
        "id": "z6JVCOc0kHOY"
      }
    },
    {
      "cell_type": "code",
      "source": [
        "#Como se sobreescribe con respecto al anterior se pone esta nueva transformación.\n",
        "transformacion = lambda x: 1 if 1 <= x <= 3 else 4\n",
        "\n",
        "# Datos de entrenamiento: COGNITIVO ANTONIO\n",
        "cogA[0] = cogA[0].map(transformacion)\n",
        "\n",
        "xAcc = cogA.iloc[:,1:].values\n",
        "yAcc = cogA.iloc[:,0].values\n",
        "\n",
        "# Datos de entrenamiento: COGNITIVO MAYRA\n",
        "cogM[0] = cogM[0].map(transformacion)\n",
        "\n",
        "xMcc = cogM.iloc[:,1:].values\n",
        "yMcc = cogM.iloc[:,0].values\n",
        "\n",
        "# Datos de entrenamiento: COGNITIVO RAUL\n",
        "cogR[0] = cogR[0].map(transformacion)\n",
        "\n",
        "xRcc = cogR.iloc[:,1:].values\n",
        "yRcc = cogR.iloc[:,0].values"
      ],
      "metadata": {
        "id": "X1l9LKIMkN5J"
      },
      "execution_count": 13,
      "outputs": []
    },
    {
      "cell_type": "markdown",
      "source": [
        "Tarea Cognitivas vs no cognitivas Antonio"
      ],
      "metadata": {
        "id": "q7YuZ5qwD1s1"
      }
    },
    {
      "cell_type": "code",
      "source": [
        "print(\"SVM\")\n",
        "svm_classifier(xAcc, yAcc)\n",
        "print(\"KNN\")\n",
        "knn_classifier(xAcc, yAcc, 8)\n",
        "print(\"MLP\")\n",
        "perceptron(xAcc, yAcc, 3)\n",
        "print(\"Decision Tree\")\n",
        "DTC_classifier(xAcc, yAcc)\n",
        "print(\"Random Forest\")\n",
        "RFC_classifier(xAcc, yAcc)"
      ],
      "metadata": {
        "colab": {
          "base_uri": "https://localhost:8080/"
        },
        "id": "leV4pZ34D_Qu",
        "outputId": "36b9cc37-895b-4c19-93da-782df1f019d0"
      },
      "execution_count": 14,
      "outputs": [
        {
          "output_type": "stream",
          "name": "stdout",
          "text": [
            "SVM\n",
            "              precision    recall  f1-score   support\n",
            "\n",
            "           1       0.79      0.92      0.85        37\n",
            "           4       0.77      0.53      0.62        19\n",
            "\n",
            "    accuracy                           0.79        56\n",
            "   macro avg       0.78      0.72      0.74        56\n",
            "weighted avg       0.78      0.79      0.77        56\n",
            "\n",
            "KNN\n",
            "              precision    recall  f1-score   support\n",
            "\n",
            "           1       0.75      0.97      0.85        37\n",
            "           4       0.88      0.37      0.52        19\n",
            "\n",
            "    accuracy                           0.77        56\n",
            "   macro avg       0.81      0.67      0.68        56\n",
            "weighted avg       0.79      0.77      0.74        56\n",
            "\n",
            "MLP\n",
            "              precision    recall  f1-score   support\n",
            "\n",
            "           1       0.78      0.82      0.80        34\n",
            "           4       0.70      0.64      0.67        22\n",
            "\n",
            "    accuracy                           0.75        56\n",
            "   macro avg       0.74      0.73      0.73        56\n",
            "weighted avg       0.75      0.75      0.75        56\n",
            "\n",
            "              precision    recall  f1-score   support\n",
            "\n",
            "           1       0.60      0.91      0.72        34\n",
            "           4       0.00      0.00      0.00        21\n",
            "\n",
            "    accuracy                           0.56        55\n",
            "   macro avg       0.30      0.46      0.36        55\n",
            "weighted avg       0.37      0.56      0.45        55\n",
            "\n",
            "              precision    recall  f1-score   support\n",
            "\n",
            "           1       0.62      1.00      0.76        34\n",
            "           4       1.00      0.00      0.00        21\n",
            "\n",
            "    accuracy                           0.62        55\n",
            "   macro avg       0.81      0.50      0.38        55\n",
            "weighted avg       0.76      0.62      0.47        55\n",
            "\n",
            "              precision    recall  f1-score   support\n",
            "\n",
            "           1       0.84      0.82      0.83        33\n",
            "           4       0.74      0.77      0.76        22\n",
            "\n",
            "    accuracy                           0.80        55\n",
            "   macro avg       0.79      0.80      0.79        55\n",
            "weighted avg       0.80      0.80      0.80        55\n",
            "\n",
            "              precision    recall  f1-score   support\n",
            "\n",
            "           1       0.60      1.00      0.75        33\n",
            "           4       1.00      0.00      0.00        22\n",
            "\n",
            "    accuracy                           0.60        55\n",
            "   macro avg       0.80      0.50      0.37        55\n",
            "weighted avg       0.76      0.60      0.45        55\n",
            "\n",
            "Resultados del clasificador:\n",
            "\n",
            "               precision    recall  f1-score   support\n",
            "\n",
            "           1       0.67      0.91      0.77       168\n",
            "           4       0.67      0.29      0.40       108\n",
            "\n",
            "    accuracy                           0.67       276\n",
            "   macro avg       0.67      0.60      0.59       276\n",
            "weighted avg       0.67      0.67      0.63       276\n",
            "\n",
            "Decision Tree\n",
            "              precision    recall  f1-score   support\n",
            "\n",
            "           1       0.84      0.84      0.84        37\n",
            "           4       0.68      0.68      0.68        19\n",
            "\n",
            "    accuracy                           0.79        56\n",
            "   macro avg       0.76      0.76      0.76        56\n",
            "weighted avg       0.79      0.79      0.79        56\n",
            "\n",
            "Random Forest\n",
            "              precision    recall  f1-score   support\n",
            "\n",
            "           1       0.81      0.92      0.86        37\n",
            "           4       0.79      0.58      0.67        19\n",
            "\n",
            "    accuracy                           0.80        56\n",
            "   macro avg       0.80      0.75      0.76        56\n",
            "weighted avg       0.80      0.80      0.79        56\n",
            "\n"
          ]
        }
      ]
    },
    {
      "cell_type": "markdown",
      "source": [
        "Tarea Cognitivas vs no cognitivas Mayra"
      ],
      "metadata": {
        "id": "aUlOD7tVD4aL"
      }
    },
    {
      "cell_type": "code",
      "source": [
        "print(\"SVM\")\n",
        "svm_classifier(xMcc, yMcc)\n",
        "print(\"KNN\")\n",
        "knn_classifier(xMcc, yMcc, 8)\n",
        "print(\"MLP\")\n",
        "perceptron(xMcc, yMcc, 3)\n",
        "print(\"Decision Tree\")\n",
        "DTC_classifier(xMcc, yMcc)\n",
        "print(\"Random Forest\")\n",
        "RFC_classifier(xMcc, yMcc)"
      ],
      "metadata": {
        "colab": {
          "base_uri": "https://localhost:8080/"
        },
        "id": "utnvpTgqFA-U",
        "outputId": "0d2da849-e5d3-4173-94a9-3f69dfffa62d"
      },
      "execution_count": 15,
      "outputs": [
        {
          "output_type": "stream",
          "name": "stdout",
          "text": [
            "SVM\n",
            "              precision    recall  f1-score   support\n",
            "\n",
            "           1       0.70      0.88      0.78        34\n",
            "           4       0.67      0.38      0.48        21\n",
            "\n",
            "    accuracy                           0.69        55\n",
            "   macro avg       0.68      0.63      0.63        55\n",
            "weighted avg       0.69      0.69      0.67        55\n",
            "\n",
            "KNN\n",
            "              precision    recall  f1-score   support\n",
            "\n",
            "           1       0.77      0.79      0.78        34\n",
            "           4       0.65      0.62      0.63        21\n",
            "\n",
            "    accuracy                           0.73        55\n",
            "   macro avg       0.71      0.71      0.71        55\n",
            "weighted avg       0.73      0.73      0.73        55\n",
            "\n",
            "MLP\n",
            "              precision    recall  f1-score   support\n",
            "\n",
            "           1       0.84      0.76      0.80        34\n",
            "           4       0.67      0.76      0.71        21\n",
            "\n",
            "    accuracy                           0.76        55\n",
            "   macro avg       0.75      0.76      0.76        55\n",
            "weighted avg       0.77      0.76      0.77        55\n",
            "\n",
            "              precision    recall  f1-score   support\n",
            "\n",
            "           1       1.00      0.03      0.06        34\n",
            "           4       0.39      1.00      0.56        21\n",
            "\n",
            "    accuracy                           0.40        55\n",
            "   macro avg       0.69      0.51      0.31        55\n",
            "weighted avg       0.77      0.40      0.25        55\n",
            "\n",
            "              precision    recall  f1-score   support\n",
            "\n",
            "           1       0.62      1.00      0.76        34\n",
            "           4       1.00      0.00      0.00        21\n",
            "\n",
            "    accuracy                           0.62        55\n",
            "   macro avg       0.81      0.50      0.38        55\n",
            "weighted avg       0.76      0.62      0.47        55\n",
            "\n",
            "              precision    recall  f1-score   support\n",
            "\n",
            "           1       0.60      1.00      0.75        33\n",
            "           4       1.00      0.00      0.00        22\n",
            "\n",
            "    accuracy                           0.60        55\n",
            "   macro avg       0.80      0.50      0.37        55\n",
            "weighted avg       0.76      0.60      0.45        55\n",
            "\n",
            "              precision    recall  f1-score   support\n",
            "\n",
            "           1       0.61      1.00      0.76        33\n",
            "           4       1.00      0.05      0.09        22\n",
            "\n",
            "    accuracy                           0.62        55\n",
            "   macro avg       0.81      0.52      0.42        55\n",
            "weighted avg       0.77      0.62      0.49        55\n",
            "\n",
            "Resultados del clasificador:\n",
            "\n",
            "               precision    recall  f1-score   support\n",
            "\n",
            "           1       0.65      0.76      0.70       168\n",
            "           4       0.48      0.36      0.41       107\n",
            "\n",
            "    accuracy                           0.60       275\n",
            "   macro avg       0.56      0.56      0.55       275\n",
            "weighted avg       0.58      0.60      0.59       275\n",
            "\n",
            "Decision Tree\n",
            "              precision    recall  f1-score   support\n",
            "\n",
            "           1       0.71      0.71      0.71        34\n",
            "           4       0.52      0.52      0.52        21\n",
            "\n",
            "    accuracy                           0.64        55\n",
            "   macro avg       0.61      0.61      0.61        55\n",
            "weighted avg       0.64      0.64      0.64        55\n",
            "\n",
            "Random Forest\n",
            "              precision    recall  f1-score   support\n",
            "\n",
            "           1       0.82      0.82      0.82        34\n",
            "           4       0.71      0.71      0.71        21\n",
            "\n",
            "    accuracy                           0.78        55\n",
            "   macro avg       0.77      0.77      0.77        55\n",
            "weighted avg       0.78      0.78      0.78        55\n",
            "\n"
          ]
        }
      ]
    },
    {
      "cell_type": "markdown",
      "source": [
        "Tarea cognitivas vs no cognitivas Raul"
      ],
      "metadata": {
        "id": "ZjqAOnRnD5de"
      }
    },
    {
      "cell_type": "code",
      "source": [
        "print(\"SVM\")\n",
        "svm_classifier(xRcc, yRcc)\n",
        "print(\"KNN\")\n",
        "knn_classifier(xRcc, yRcc, 8)\n",
        "print(\"MLP\")\n",
        "perceptron(xRcc, yRcc, 3)\n",
        "print(\"Decision Tree\")\n",
        "DTC_classifier(xRcc, yRcc)\n",
        "print(\"Random Forest\")\n",
        "RFC_classifier(xRcc, yRcc)"
      ],
      "metadata": {
        "colab": {
          "base_uri": "https://localhost:8080/"
        },
        "id": "9zCkLC-bFGm9",
        "outputId": "731f5de5-85c7-4155-8dc4-7c35c72de40f"
      },
      "execution_count": 16,
      "outputs": [
        {
          "output_type": "stream",
          "name": "stdout",
          "text": [
            "SVM\n",
            "              precision    recall  f1-score   support\n",
            "\n",
            "           1       0.62      1.00      0.76        34\n",
            "           4       1.00      0.00      0.00        21\n",
            "\n",
            "    accuracy                           0.62        55\n",
            "   macro avg       0.81      0.50      0.38        55\n",
            "weighted avg       0.76      0.62      0.47        55\n",
            "\n",
            "KNN\n",
            "              precision    recall  f1-score   support\n",
            "\n",
            "           1       0.82      0.68      0.74        34\n",
            "           4       0.59      0.76      0.67        21\n",
            "\n",
            "    accuracy                           0.71        55\n",
            "   macro avg       0.71      0.72      0.70        55\n",
            "weighted avg       0.73      0.71      0.71        55\n",
            "\n",
            "MLP\n",
            "              precision    recall  f1-score   support\n",
            "\n",
            "           1       1.00      0.00      0.00        34\n",
            "           4       0.38      1.00      0.55        21\n",
            "\n",
            "    accuracy                           0.38        55\n",
            "   macro avg       0.69      0.50      0.28        55\n",
            "weighted avg       0.76      0.38      0.21        55\n",
            "\n",
            "              precision    recall  f1-score   support\n",
            "\n",
            "           1       0.79      0.76      0.78        34\n",
            "           4       0.64      0.67      0.65        21\n",
            "\n",
            "    accuracy                           0.73        55\n",
            "   macro avg       0.71      0.72      0.71        55\n",
            "weighted avg       0.73      0.73      0.73        55\n",
            "\n",
            "              precision    recall  f1-score   support\n",
            "\n",
            "           1       0.85      0.85      0.85        34\n",
            "           4       0.76      0.76      0.76        21\n",
            "\n",
            "    accuracy                           0.82        55\n",
            "   macro avg       0.81      0.81      0.81        55\n",
            "weighted avg       0.82      0.82      0.82        55\n",
            "\n",
            "              precision    recall  f1-score   support\n",
            "\n",
            "           1       1.00      0.00      0.00        33\n",
            "           4       0.39      1.00      0.56        21\n",
            "\n",
            "    accuracy                           0.39        54\n",
            "   macro avg       0.69      0.50      0.28        54\n",
            "weighted avg       0.76      0.39      0.22        54\n",
            "\n",
            "              precision    recall  f1-score   support\n",
            "\n",
            "           1       0.92      0.33      0.49        33\n",
            "           4       0.48      0.95      0.63        21\n",
            "\n",
            "    accuracy                           0.57        54\n",
            "   macro avg       0.70      0.64      0.56        54\n",
            "weighted avg       0.75      0.57      0.55        54\n",
            "\n",
            "Resultados del clasificador:\n",
            "\n",
            "               precision    recall  f1-score   support\n",
            "\n",
            "           1       0.84      0.39      0.53       168\n",
            "           4       0.47      0.88      0.62       105\n",
            "\n",
            "    accuracy                           0.58       273\n",
            "   macro avg       0.65      0.63      0.57       273\n",
            "weighted avg       0.70      0.58      0.57       273\n",
            "\n",
            "Decision Tree\n",
            "              precision    recall  f1-score   support\n",
            "\n",
            "           1       0.76      0.65      0.70        34\n",
            "           4       0.54      0.67      0.60        21\n",
            "\n",
            "    accuracy                           0.65        55\n",
            "   macro avg       0.65      0.66      0.65        55\n",
            "weighted avg       0.67      0.65      0.66        55\n",
            "\n",
            "Random Forest\n",
            "              precision    recall  f1-score   support\n",
            "\n",
            "           1       0.80      0.82      0.81        34\n",
            "           4       0.70      0.67      0.68        21\n",
            "\n",
            "    accuracy                           0.76        55\n",
            "   macro avg       0.75      0.75      0.75        55\n",
            "weighted avg       0.76      0.76      0.76        55\n",
            "\n"
          ]
        }
      ]
    },
    {
      "cell_type": "markdown",
      "source": [
        "## Punto 3. Indique qué modelos de clasificación de los que evaluó anteriormente tienen hiperparámetros y cuáles son éstos en cada caso. Seleccione uno de estos clasificadores, y determine sus hiperparámetros óptimos."
      ],
      "metadata": {
        "id": "F7oFWY5wfosV"
      }
    },
    {
      "cell_type": "markdown",
      "source": [
        "### SVM (Support Vector Machines):\n",
        "\n",
        "SVM es un clasificador que busca encontrar un hiperplano óptimo para separar los datos en diferentes clases. Busca maximizar el margen entre las clases y utiliza vectores de soporte, que son los puntos de datos más cercanos al hiperplano de separación\n",
        "\n",
        "C: Controla el balance entre la clasificación correcta y la maximización del margen. Un valor más alto de C permite una clasificación más precisa pero puede llevar a un sobreajuste.\n",
        "\n",
        "Kernel: Define la función de transformación que se utiliza para mapear los datos a un espacio dimensional superior. Los kernels comunes incluyen lineal, polinómico y radial basis function (RBF).\n",
        "\n",
        "### KNN (K-Nearest Neighbors):\n",
        "\n",
        "Funcionamiento: KNN clasifica un punto de datos desconocido asignándole la etiqueta de clase más común entre sus vecinos más cercanos en el espacio de características. Los vecinos se seleccionan según una medida de distancia, generalmente la distancia euclidiana.\n",
        "\n",
        "K: Especifica el número de vecinos más cercanos que se consideran al realizar una clasificación. Un valor más alto de K suaviza la decisión y puede reducir el ruido, pero también puede llevar a una clasificación menos precisa.\n",
        "\n",
        "### MLP (Multilayer Perceptron):\n",
        "\n",
        "MLP es una red neuronal artificial que consta de múltiples capas de unidades llamadas neuronas. Las neuronas se organizan en capas de entrada, ocultas y de salida, y utilizan una función de activación para introducir no linealidad. El MLP aprende a través de retropropagación del error y ajusta los pesos de las conexiones para mejorar la precisión de la clasificación.\n",
        "\n",
        "Número y tamaño de las capas ocultas: Especifica el número de capas ocultas y el número de neuronas en cada capa oculta. Más capas y neuronas pueden aumentar la capacidad del modelo, pero también pueden conducir a un sobreajuste.\n",
        "\n",
        "Función de activación: Define la función que se aplica a la salida de cada neurona. Algunas funciones comunes incluyen la función sigmoide, la función ReLU y la función tangente hiperbólica.\n",
        "\n",
        "### Decision Tree/Árbol de decisión:\n",
        "\n",
        "Funcionamiento: Un árbol de decisión divide repetidamente el conjunto de datos en subconjuntos más pequeños según las características relevantes. Cada división se basa en una regla o criterio que maximiza la homogeneidad dentro de cada subconjunto y la heterogeneidad entre los subconjuntos.\n",
        "\n",
        "Criterio de división: Especifica el criterio utilizado para medir la calidad de una división. Algunos criterios comunes son la ganancia de información (information gain) y el índice Gini.\n",
        "\n",
        "Profundidad máxima del árbol: Controla la cantidad máxima de divisiones o niveles en el árbol. Un árbol más profundo puede capturar relaciones más complejas en los datos, pero también puede llevar a un sobreajuste.\n",
        "\n",
        "###Random Forest:\n",
        "\n",
        "Funcionamiento: Un Random Forest es un conjunto de árboles de decisión. Cada árbol se entrena con una muestra aleatoria del conjunto de datos y realiza una clasificación individual. La clasificación final se obtiene por votación o promediado de las clasificaciones de los árboles individuales.\n",
        "\n",
        "Número de árboles: Especifica la cantidad de árboles de decisión en el bosque. Un mayor número de árboles generalmente reduce el sobreajuste y mejora la precisión, pero también aumenta el costo computacional.\n",
        "\n",
        "Tamaño de muestra: Controla el tamaño de la muestra utilizada para entrenar cada árbol individual. Un tamaño de muestra más pequeño puede introducir variabilidad y aumentar la diversidad del bosque."
      ],
      "metadata": {
        "id": "8ZzKGff07wLx"
      }
    },
    {
      "cell_type": "code",
      "source": [
        "# Hiperparámetros de los modelos de clasificación evaluados anteriormente\n",
        "# Modelos de clasificación\n",
        "models = {\n",
        "    'SVM': svm.SVC(),\n",
        "    'K-NN': neighbors.KNeighborsClassifier(),\n",
        "    'MLP': MLPClassifier(hidden_layer_sizes=(16, 8), max_iter=1000)\n",
        "}\n",
        "\n",
        "hyperparameters = {\n",
        "    'SVM': {\n",
        "        'C': [0.1, 1, 10],\n",
        "        'kernel': ['linear', 'rbf']\n",
        "    },\n",
        "    'K-NN': {\n",
        "        'n_neighbors': [3, 5, 7],\n",
        "    },\n",
        "    'MLP': {\n",
        "        'hidden_layer_sizes': [(16,), (16, 8), (32, 16)],\n",
        "        'activation': ['relu', 'logistic']\n",
        "    }\n",
        "}\n",
        "\n",
        "# Ajuste de hiperparámetros óptimos para el modelo seleccionado (SVM)\n",
        "grid_search = GridSearchCV(models['SVM'], hyperparameters['SVM'], cv=3)\n",
        "grid_search.fit(xA, yA)\n",
        "\n",
        "# Hiperparámetros óptimos encontrados\n",
        "best_params = grid_search.best_params_\n",
        "\n",
        "print(f\"Hiperparámetros óptimos para {'SVM'}:\")\n",
        "print(best_params)\n",
        "print()  "
      ],
      "metadata": {
        "colab": {
          "base_uri": "https://localhost:8080/"
        },
        "id": "oQ9HZszf8rrx",
        "outputId": "f2cd6593-bbdb-453c-f161-270e57e9e60a"
      },
      "execution_count": 17,
      "outputs": [
        {
          "output_type": "stream",
          "name": "stdout",
          "text": [
            "Hiperparámetros óptimos para SVM:\n",
            "{'C': 0.1, 'kernel': 'linear'}\n",
            "\n"
          ]
        }
      ]
    },
    {
      "cell_type": "markdown",
      "source": [
        "Utilizamos la función GridSearch para encontrar los mejores parámetros. Aquí lo probamos con el clasificador SVM, conocido por tener éxito en pruebas de P300. nos define como mejores parámetros una C baja y un kernel linear."
      ],
      "metadata": {
        "id": "RyNNJSs3AZh_"
      }
    },
    {
      "cell_type": "markdown",
      "source": [
        "Adicionalmente hacemos varias pruebas para el clasificador K-NN para probar las mejores K:"
      ],
      "metadata": {
        "id": "Iy0rzK79AnTn"
      }
    },
    {
      "cell_type": "code",
      "source": [
        "for i in range(1, 9):\n",
        "  print(f\"\\nPara k {i} los resultados son: \")\n",
        "  knn_classifier(xA, yA, i)"
      ],
      "metadata": {
        "colab": {
          "base_uri": "https://localhost:8080/"
        },
        "id": "3FYNBbohgQmb",
        "outputId": "945856eb-4f71-4610-b88a-8497709a98d8"
      },
      "execution_count": 18,
      "outputs": [
        {
          "output_type": "stream",
          "name": "stdout",
          "text": [
            "\n",
            "Para k 1 los resultados son: \n",
            "              precision    recall  f1-score   support\n",
            "\n",
            "           1       0.38      0.32      0.34        57\n",
            "           2       0.83      0.86      0.85       222\n",
            "\n",
            "    accuracy                           0.75       279\n",
            "   macro avg       0.60      0.59      0.60       279\n",
            "weighted avg       0.74      0.75      0.74       279\n",
            "\n",
            "\n",
            "Para k 2 los resultados son: \n",
            "              precision    recall  f1-score   support\n",
            "\n",
            "           1       0.44      0.65      0.52        57\n",
            "           2       0.90      0.79      0.84       222\n",
            "\n",
            "    accuracy                           0.76       279\n",
            "   macro avg       0.67      0.72      0.68       279\n",
            "weighted avg       0.80      0.76      0.78       279\n",
            "\n",
            "\n",
            "Para k 3 los resultados son: \n",
            "              precision    recall  f1-score   support\n",
            "\n",
            "           1       0.57      0.35      0.43        57\n",
            "           2       0.85      0.93      0.89       222\n",
            "\n",
            "    accuracy                           0.81       279\n",
            "   macro avg       0.71      0.64      0.66       279\n",
            "weighted avg       0.79      0.81      0.80       279\n",
            "\n",
            "\n",
            "Para k 4 los resultados son: \n",
            "              precision    recall  f1-score   support\n",
            "\n",
            "           1       0.58      0.54      0.56        57\n",
            "           2       0.88      0.90      0.89       222\n",
            "\n",
            "    accuracy                           0.83       279\n",
            "   macro avg       0.73      0.72      0.73       279\n",
            "weighted avg       0.82      0.83      0.83       279\n",
            "\n",
            "\n",
            "Para k 5 los resultados son: \n",
            "              precision    recall  f1-score   support\n",
            "\n",
            "           1       0.73      0.33      0.46        57\n",
            "           2       0.85      0.97      0.91       222\n",
            "\n",
            "    accuracy                           0.84       279\n",
            "   macro avg       0.79      0.65      0.68       279\n",
            "weighted avg       0.83      0.84      0.81       279\n",
            "\n",
            "\n",
            "Para k 6 los resultados son: \n",
            "              precision    recall  f1-score   support\n",
            "\n",
            "           1       0.72      0.40      0.52        57\n",
            "           2       0.86      0.96      0.91       222\n",
            "\n",
            "    accuracy                           0.85       279\n",
            "   macro avg       0.79      0.68      0.71       279\n",
            "weighted avg       0.83      0.85      0.83       279\n",
            "\n",
            "\n",
            "Para k 7 los resultados son: \n",
            "              precision    recall  f1-score   support\n",
            "\n",
            "           1       0.75      0.26      0.39        57\n",
            "           2       0.84      0.98      0.90       222\n",
            "\n",
            "    accuracy                           0.83       279\n",
            "   macro avg       0.79      0.62      0.65       279\n",
            "weighted avg       0.82      0.83      0.80       279\n",
            "\n",
            "\n",
            "Para k 8 los resultados son: \n",
            "              precision    recall  f1-score   support\n",
            "\n",
            "           1       0.68      0.30      0.41        57\n",
            "           2       0.84      0.96      0.90       222\n",
            "\n",
            "    accuracy                           0.83       279\n",
            "   macro avg       0.76      0.63      0.66       279\n",
            "weighted avg       0.81      0.83      0.80       279\n",
            "\n"
          ]
        }
      ]
    },
    {
      "cell_type": "markdown",
      "source": [
        "## Punto 4. Para uno de los modelos de clasificación, aplique un método de selección de características. Indique cuantas características son suficientes para obtener buenos resultados."
      ],
      "metadata": {
        "id": "jrnSztHUhFaH"
      }
    },
    {
      "cell_type": "markdown",
      "source": [
        "###P300 ANTONIO"
      ],
      "metadata": {
        "id": "hhcyhNd-iQX_"
      }
    },
    {
      "cell_type": "code",
      "source": [
        "# Use the filter approach for feature selection\n",
        "ks = np.arange(1, 11, 1)\n",
        "accs = []\n",
        "clf = SVC(kernel='linear')\n",
        "kf = StratifiedKFold(n_splits=5, shuffle = True)\n",
        "for k in ks:\n",
        "    print('--------------- Filter feature selection, k =', k)    \n",
        "\n",
        "    cv_y_test = []\n",
        "    cv_y_pred = []\n",
        "\n",
        "    for train_index, test_index in kf.split(xA, yA):\n",
        "    \n",
        "       # Training phase\n",
        "        x_train = xA[train_index, :]\n",
        "        y_train = yA[train_index]     \n",
        "\n",
        "        ffs = SelectKBest(mutual_info_classif, k=k)\n",
        "        ffs.fit(x_train, y_train)\n",
        "        x_train = ffs.transform(x_train)\n",
        "\n",
        "        clf.fit(x_train, y_train)\n",
        "\n",
        "        # Test phase\n",
        "        x_test = ffs.transform(xA[test_index, :])\n",
        "        y_test = yA[test_index]\n",
        "        y_pred = clf.predict(x_test)\n",
        "    \n",
        "        cv_y_test.append(y_test)\n",
        "        cv_y_pred.append(y_pred)\n",
        "    \n",
        "    acc = accuracy_score(np.concatenate(cv_y_test), np.concatenate(cv_y_pred))\n",
        "    rec = recall_score(np.concatenate(cv_y_test), np.concatenate(cv_y_pred), average = None)\n",
        "    pre = precision_score(np.concatenate(cv_y_test), np.concatenate(cv_y_pred), average = None)\n",
        "\n",
        "    print('ACC: ', acc, 'Recall: ', rec, 'Precision: ', pre)\n",
        "    accs.append(acc)\n",
        "\n",
        "plt.plot(ks, accs)\n",
        "plt.xlabel('k')\n",
        "plt.ylabel('Accuracy')\n",
        "plt.title('Univariate filter for feature selection')\n",
        "plt.show()\n"
      ],
      "metadata": {
        "colab": {
          "base_uri": "https://localhost:8080/",
          "height": 874
        },
        "id": "hdK8zMP5hHJ3",
        "outputId": "731780bb-2b25-4ef9-cf9d-f5df62f24f56"
      },
      "execution_count": 19,
      "outputs": [
        {
          "output_type": "stream",
          "name": "stdout",
          "text": [
            "--------------- Filter feature selection, k = 1\n"
          ]
        },
        {
          "output_type": "stream",
          "name": "stderr",
          "text": [
            "/usr/local/lib/python3.10/dist-packages/sklearn/metrics/_classification.py:1344: UndefinedMetricWarning: Precision is ill-defined and being set to 0.0 in labels with no predicted samples. Use `zero_division` parameter to control this behavior.\n",
            "  _warn_prf(average, modifier, msg_start, len(result))\n"
          ]
        },
        {
          "output_type": "stream",
          "name": "stdout",
          "text": [
            "ACC:  0.8 Recall:  [0. 1.] Precision:  [0.  0.8]\n",
            "--------------- Filter feature selection, k = 2\n",
            "ACC:  0.8021505376344086 Recall:  [0.01792115 0.99820789] Precision:  [0.71428571 0.80259366]\n",
            "--------------- Filter feature selection, k = 3\n",
            "ACC:  0.832258064516129 Recall:  [0.22580645 0.98387097] Precision:  [0.77777778 0.83561644]\n",
            "--------------- Filter feature selection, k = 4\n",
            "ACC:  0.8494623655913979 Recall:  [0.36917563 0.96953405] Precision:  [0.75182482 0.86009539]\n",
            "--------------- Filter feature selection, k = 5\n",
            "ACC:  0.8516129032258064 Recall:  [0.39784946 0.96505376] Precision:  [0.74       0.86506024]\n",
            "--------------- Filter feature selection, k = 6\n",
            "ACC:  0.8616487455197133 Recall:  [0.46953405 0.95967742] Precision:  [0.74431818 0.87858901]\n",
            "--------------- Filter feature selection, k = 7\n",
            "ACC:  0.8623655913978494 Recall:  [0.48028674 0.9578853 ] Precision:  [0.74033149 0.88056013]\n",
            "--------------- Filter feature selection, k = 8\n",
            "ACC:  0.8630824372759857 Recall:  [0.48028674 0.95878136] Precision:  [0.74444444 0.88065844]\n",
            "--------------- Filter feature selection, k = 9\n",
            "ACC:  0.8573476702508961 Recall:  [0.47311828 0.95340502] Precision:  [0.7173913  0.87861272]\n",
            "--------------- Filter feature selection, k = 10\n",
            "ACC:  0.8681003584229391 Recall:  [0.53046595 0.95250896] Precision:  [0.73631841 0.89028476]\n"
          ]
        },
        {
          "output_type": "display_data",
          "data": {
            "text/plain": [
              "<Figure size 640x480 with 1 Axes>"
            ],
            "image/png": "[encoded data removed]"
          },
          "metadata": {}
        }
      ]
    },
    {
      "cell_type": "markdown",
      "source": [
        "El mejor coeficiente son 10 características. Por ende, esta son las características suficientes para obtener buenos resultados."
      ],
      "metadata": {
        "id": "l5Q4s6244UGa"
      }
    },
    {
      "cell_type": "markdown",
      "source": [
        "###P300 MAYRA"
      ],
      "metadata": {
        "id": "ow_ah_-ZizJC"
      }
    },
    {
      "cell_type": "code",
      "source": [
        "# Use the filter approach for feature selection\n",
        "ks = np.arange(1, 11, 1)\n",
        "accs = []\n",
        "clf = SVC(kernel='linear')\n",
        "kf = StratifiedKFold(n_splits=5, shuffle = True)\n",
        "for k in ks:\n",
        "    print('--------------- Filter feature selection, k =', k)    \n",
        "\n",
        "    cv_y_test = []\n",
        "    cv_y_pred = []\n",
        "\n",
        "    for train_index, test_index in kf.split(xM, yM):\n",
        "    \n",
        "       # Training phase\n",
        "        x_train = xM[train_index, :]\n",
        "        y_train = yM[train_index]     \n",
        "\n",
        "        ffs = SelectKBest(mutual_info_classif, k=k)\n",
        "        ffs.fit(x_train, y_train)\n",
        "        x_train = ffs.transform(x_train)\n",
        "\n",
        "        clf.fit(x_train, y_train)\n",
        "\n",
        "        # Test phase\n",
        "        x_test = ffs.transform(xM[test_index, :])\n",
        "        y_test = yM[test_index]\n",
        "        y_pred = clf.predict(x_test)\n",
        "    \n",
        "        cv_y_test.append(y_test)\n",
        "        cv_y_pred.append(y_pred)\n",
        "    \n",
        "    acc = accuracy_score(np.concatenate(cv_y_test), np.concatenate(cv_y_pred))\n",
        "    rec = recall_score(np.concatenate(cv_y_test), np.concatenate(cv_y_pred), average = None)\n",
        "    pre = precision_score(np.concatenate(cv_y_test), np.concatenate(cv_y_pred), average = None)\n",
        "\n",
        "    print('ACC: ', acc, 'Recall: ', rec, 'Precision: ', pre)\n",
        "    accs.append(acc)\n",
        "\n",
        "plt.plot(ks, accs)\n",
        "plt.xlabel('k')\n",
        "plt.ylabel('Accuracy')\n",
        "plt.title('Univariate filter for feature selection')\n",
        "plt.show()"
      ],
      "metadata": {
        "colab": {
          "base_uri": "https://localhost:8080/",
          "height": 909
        },
        "outputId": "3dcbca27-d092-4441-8671-a27194c0a661",
        "id": "0PLWbzHIizJD"
      },
      "execution_count": 20,
      "outputs": [
        {
          "output_type": "stream",
          "name": "stdout",
          "text": [
            "--------------- Filter feature selection, k = 1\n"
          ]
        },
        {
          "output_type": "stream",
          "name": "stderr",
          "text": [
            "/usr/local/lib/python3.10/dist-packages/sklearn/metrics/_classification.py:1344: UndefinedMetricWarning: Precision is ill-defined and being set to 0.0 in labels with no predicted samples. Use `zero_division` parameter to control this behavior.\n",
            "  _warn_prf(average, modifier, msg_start, len(result))\n"
          ]
        },
        {
          "output_type": "stream",
          "name": "stdout",
          "text": [
            "ACC:  0.7982456140350878 Recall:  [0. 1.] Precision:  [0.         0.79824561]\n",
            "--------------- Filter feature selection, k = 2\n"
          ]
        },
        {
          "output_type": "stream",
          "name": "stderr",
          "text": [
            "/usr/local/lib/python3.10/dist-packages/sklearn/metrics/_classification.py:1344: UndefinedMetricWarning: Precision is ill-defined and being set to 0.0 in labels with no predicted samples. Use `zero_division` parameter to control this behavior.\n",
            "  _warn_prf(average, modifier, msg_start, len(result))\n"
          ]
        },
        {
          "output_type": "stream",
          "name": "stdout",
          "text": [
            "ACC:  0.7982456140350878 Recall:  [0. 1.] Precision:  [0.         0.79824561]\n",
            "--------------- Filter feature selection, k = 3\n",
            "ACC:  0.8048245614035088 Recall:  [0.05434783 0.99450549] Precision:  [0.71428571 0.80623608]\n",
            "--------------- Filter feature selection, k = 4\n",
            "ACC:  0.8026315789473685 Recall:  [0.05434783 0.99175824] Precision:  [0.625      0.80580357]\n",
            "--------------- Filter feature selection, k = 5\n",
            "ACC:  0.8114035087719298 Recall:  [0.18478261 0.96978022] Precision:  [0.60714286 0.82476636]\n",
            "--------------- Filter feature selection, k = 6\n",
            "ACC:  0.8114035087719298 Recall:  [0.17391304 0.97252747] Precision:  [0.61538462 0.82325581]\n",
            "--------------- Filter feature selection, k = 7\n",
            "ACC:  0.8201754385964912 Recall:  [0.17391304 0.98351648] Precision:  [0.72727273 0.82488479]\n",
            "--------------- Filter feature selection, k = 8\n",
            "ACC:  0.8289473684210527 Recall:  [0.27173913 0.96978022] Precision:  [0.69444444 0.84047619]\n",
            "--------------- Filter feature selection, k = 9\n",
            "ACC:  0.8464912280701754 Recall:  [0.36956522 0.96703297] Precision:  [0.73913043 0.85853659]\n",
            "--------------- Filter feature selection, k = 10\n",
            "ACC:  0.8333333333333334 Recall:  [0.38043478 0.9478022 ] Precision:  [0.64814815 0.85820896]\n"
          ]
        },
        {
          "output_type": "display_data",
          "data": {
            "text/plain": [
              "<Figure size 640x480 with 1 Axes>"
            ],
            "image/png": "[encoded data removed]"
          },
          "metadata": {}
        }
      ]
    },
    {
      "cell_type": "markdown",
      "source": [
        "El mejor coeficiente son 9 características. Por ende, esta son las características suficientes para obtener buenos resultados."
      ],
      "metadata": {
        "id": "Rkqwy6A84gQ6"
      }
    },
    {
      "cell_type": "markdown",
      "source": [
        "###Cognitivas Antonio"
      ],
      "metadata": {
        "id": "ahP1af0RTnIV"
      }
    },
    {
      "cell_type": "code",
      "source": [
        "# Use the filter approach for feature selection\n",
        "ks = np.arange(1, 11, 1)\n",
        "accs = []\n",
        "clf = SVC(kernel='linear')\n",
        "kf = StratifiedKFold(n_splits=5, shuffle = True)\n",
        "for k in ks:\n",
        "    print('--------------- Filter feature selection, k =', k)    \n",
        "\n",
        "    cv_y_test = []\n",
        "    cv_y_pred = []\n",
        "\n",
        "    for train_index, test_index in kf.split(xAc, yAc):\n",
        "    \n",
        "       # Training phase\n",
        "        x_train = xAc[train_index, :]\n",
        "        y_train = yAc[train_index]     \n",
        "\n",
        "        ffs = SelectKBest(mutual_info_classif, k=k)\n",
        "        ffs.fit(x_train, y_train)\n",
        "        x_train = ffs.transform(x_train)\n",
        "\n",
        "        clf.fit(x_train, y_train)\n",
        "\n",
        "        # Test phase\n",
        "        x_test = ffs.transform(xAc[test_index, :])\n",
        "        y_test = yAc[test_index]\n",
        "        y_pred = clf.predict(x_test)\n",
        "    \n",
        "        cv_y_test.append(y_test)\n",
        "        cv_y_pred.append(y_pred)\n",
        "    \n",
        "    acc = accuracy_score(np.concatenate(cv_y_test), np.concatenate(cv_y_pred))\n",
        "    rec = recall_score(np.concatenate(cv_y_test), np.concatenate(cv_y_pred), average = None)\n",
        "    pre = precision_score(np.concatenate(cv_y_test), np.concatenate(cv_y_pred), average = None)\n",
        "\n",
        "    print('ACC: ', acc, 'Recall: ', rec, 'Precision: ', pre)\n",
        "    accs.append(acc)\n",
        "\n",
        "plt.plot(ks, accs)\n",
        "plt.xlabel('k')\n",
        "plt.ylabel('Accuracy')\n",
        "plt.title('Univariate filter for feature selection')\n",
        "plt.show()"
      ],
      "metadata": {
        "colab": {
          "base_uri": "https://localhost:8080/",
          "height": 943
        },
        "id": "gQF5OTcGTnIV",
        "outputId": "bbb0b7b8-4920-43fa-d21e-cb3bd0753af1"
      },
      "execution_count": 21,
      "outputs": [
        {
          "output_type": "stream",
          "name": "stdout",
          "text": [
            "--------------- Filter feature selection, k = 1\n"
          ]
        },
        {
          "output_type": "stream",
          "name": "stderr",
          "text": [
            "/usr/local/lib/python3.10/dist-packages/sklearn/metrics/_classification.py:1344: UndefinedMetricWarning: Precision is ill-defined and being set to 0.0 in labels with no predicted samples. Use `zero_division` parameter to control this behavior.\n",
            "  _warn_prf(average, modifier, msg_start, len(result))\n"
          ]
        },
        {
          "output_type": "stream",
          "name": "stdout",
          "text": [
            "ACC:  0.39492753623188404 Recall:  [0.05357143 0.         0.         0.98148148] Precision:  [0.6        0.         0.         0.39114391]\n",
            "--------------- Filter feature selection, k = 2\n"
          ]
        },
        {
          "output_type": "stream",
          "name": "stderr",
          "text": [
            "/usr/local/lib/python3.10/dist-packages/sklearn/metrics/_classification.py:1344: UndefinedMetricWarning: Precision is ill-defined and being set to 0.0 in labels with no predicted samples. Use `zero_division` parameter to control this behavior.\n",
            "  _warn_prf(average, modifier, msg_start, len(result))\n"
          ]
        },
        {
          "output_type": "stream",
          "name": "stdout",
          "text": [
            "ACC:  0.41304347826086957 Recall:  [0.10714286 0.05357143 0.         0.97222222] Precision:  [0.66666667 0.33333333 0.         0.40697674]\n",
            "--------------- Filter feature selection, k = 3\n"
          ]
        },
        {
          "output_type": "stream",
          "name": "stderr",
          "text": [
            "/usr/local/lib/python3.10/dist-packages/sklearn/metrics/_classification.py:1344: UndefinedMetricWarning: Precision is ill-defined and being set to 0.0 in labels with no predicted samples. Use `zero_division` parameter to control this behavior.\n",
            "  _warn_prf(average, modifier, msg_start, len(result))\n"
          ]
        },
        {
          "output_type": "stream",
          "name": "stdout",
          "text": [
            "ACC:  0.40217391304347827 Recall:  [0.10714286 0.         0.         0.97222222] Precision:  [0.66666667 0.         0.         0.39325843]\n",
            "--------------- Filter feature selection, k = 4\n",
            "ACC:  0.4420289855072464 Recall:  [0.10714286 0.46428571 0.01785714 0.82407407] Precision:  [0.35294118 0.39393939 0.125      0.48108108]\n",
            "--------------- Filter feature selection, k = 5\n",
            "ACC:  0.4384057971014493 Recall:  [0.125      0.46428571 0.03571429 0.7962963 ] Precision:  [0.46666667 0.39393939 0.5        0.45026178]\n",
            "--------------- Filter feature selection, k = 6\n",
            "ACC:  0.4166666666666667 Recall:  [0.10714286 0.39285714 0.03571429 0.78703704] Precision:  [0.5        0.44897959 0.08695652 0.44270833]\n",
            "--------------- Filter feature selection, k = 7\n",
            "ACC:  0.48188405797101447 Recall:  [0.10714286 0.60714286 0.01785714 0.85185185] Precision:  [0.46153846 0.43037975 0.2        0.51396648]\n",
            "--------------- Filter feature selection, k = 8\n",
            "ACC:  0.4673913043478261 Recall:  [0.17857143 0.53571429 0.14285714 0.75      ] Precision:  [0.35714286 0.44117647 0.2962963  0.52941176]\n",
            "--------------- Filter feature selection, k = 9\n",
            "ACC:  0.47101449275362317 Recall:  [0.16071429 0.57142857 0.08928571 0.77777778] Precision:  [0.39130435 0.42666667 0.27777778 0.525     ]\n",
            "--------------- Filter feature selection, k = 10\n",
            "ACC:  0.4963768115942029 Recall:  [0.14285714 0.5        0.14285714 0.86111111] Precision:  [0.32       0.5        0.53333333 0.51666667]\n"
          ]
        },
        {
          "output_type": "display_data",
          "data": {
            "text/plain": [
              "<Figure size 640x480 with 1 Axes>"
            ],
            "image/png": "[encoded data removed]"
          },
          "metadata": {}
        }
      ]
    },
    {
      "cell_type": "markdown",
      "source": [
        "El mejor coeficiente son 10 características. Por ende, esta son las características suficientes para obtener buenos resultados."
      ],
      "metadata": {
        "id": "cSOHPCvN4i2F"
      }
    },
    {
      "cell_type": "markdown",
      "source": [
        "###Cognitivas MAYRA"
      ],
      "metadata": {
        "id": "6GLujg2TTpgc"
      }
    },
    {
      "cell_type": "code",
      "source": [
        "# Use the filter approach for feature selection\n",
        "ks = np.arange(1, 11, 1)\n",
        "accs = []\n",
        "clf = SVC(kernel='linear')\n",
        "kf = StratifiedKFold(n_splits=5, shuffle = True)\n",
        "for k in ks:\n",
        "    print('--------------- Filter feature selection, k =', k)    \n",
        "\n",
        "    cv_y_test = []\n",
        "    cv_y_pred = []\n",
        "\n",
        "    for train_index, test_index in kf.split(xMc, yMc):\n",
        "    \n",
        "       # Training phase\n",
        "        x_train = xMc[train_index, :]\n",
        "        y_train = yMc[train_index]     \n",
        "\n",
        "        ffs = SelectKBest(mutual_info_classif, k=k)\n",
        "        ffs.fit(x_train, y_train)\n",
        "        x_train = ffs.transform(x_train)\n",
        "\n",
        "        clf.fit(x_train, y_train)\n",
        "\n",
        "        # Test phase\n",
        "        x_test = ffs.transform(xMc[test_index, :])\n",
        "        y_test = yMc[test_index]\n",
        "        y_pred = clf.predict(x_test)\n",
        "    \n",
        "        cv_y_test.append(y_test)\n",
        "        cv_y_pred.append(y_pred)\n",
        "    \n",
        "    acc = accuracy_score(np.concatenate(cv_y_test), np.concatenate(cv_y_pred))\n",
        "    rec = recall_score(np.concatenate(cv_y_test), np.concatenate(cv_y_pred), average = None)\n",
        "    pre = precision_score(np.concatenate(cv_y_test), np.concatenate(cv_y_pred), average = None)\n",
        "\n",
        "    print('ACC: ', acc, 'Recall: ', rec, 'Precision: ', pre)\n",
        "    accs.append(acc)\n",
        "\n",
        "plt.plot(ks, accs)\n",
        "plt.xlabel('k')\n",
        "plt.ylabel('Accuracy')\n",
        "plt.title('Univariate filter for feature selection')\n",
        "plt.show()"
      ],
      "metadata": {
        "colab": {
          "base_uri": "https://localhost:8080/",
          "height": 943
        },
        "id": "ZGcWVBDOTpgd",
        "outputId": "39d61e89-fd65-47e7-9d60-10e1b0732846"
      },
      "execution_count": 22,
      "outputs": [
        {
          "output_type": "stream",
          "name": "stdout",
          "text": [
            "--------------- Filter feature selection, k = 1\n"
          ]
        },
        {
          "output_type": "stream",
          "name": "stderr",
          "text": [
            "/usr/local/lib/python3.10/dist-packages/sklearn/metrics/_classification.py:1344: UndefinedMetricWarning: Precision is ill-defined and being set to 0.0 in labels with no predicted samples. Use `zero_division` parameter to control this behavior.\n",
            "  _warn_prf(average, modifier, msg_start, len(result))\n"
          ]
        },
        {
          "output_type": "stream",
          "name": "stdout",
          "text": [
            "ACC:  0.44727272727272727 Recall:  [0.         0.53571429 0.         0.86915888] Precision:  [0.         0.50847458 0.         0.43055556]\n",
            "--------------- Filter feature selection, k = 2\n"
          ]
        },
        {
          "output_type": "stream",
          "name": "stderr",
          "text": [
            "/usr/local/lib/python3.10/dist-packages/sklearn/metrics/_classification.py:1344: UndefinedMetricWarning: Precision is ill-defined and being set to 0.0 in labels with no predicted samples. Use `zero_division` parameter to control this behavior.\n",
            "  _warn_prf(average, modifier, msg_start, len(result))\n"
          ]
        },
        {
          "output_type": "stream",
          "name": "stdout",
          "text": [
            "ACC:  0.4509090909090909 Recall:  [0.         0.55357143 0.         0.86915888] Precision:  [0.         0.484375   0.         0.44285714]\n",
            "--------------- Filter feature selection, k = 3\n"
          ]
        },
        {
          "output_type": "stream",
          "name": "stderr",
          "text": [
            "/usr/local/lib/python3.10/dist-packages/sklearn/metrics/_classification.py:1344: UndefinedMetricWarning: Precision is ill-defined and being set to 0.0 in labels with no predicted samples. Use `zero_division` parameter to control this behavior.\n",
            "  _warn_prf(average, modifier, msg_start, len(result))\n"
          ]
        },
        {
          "output_type": "stream",
          "name": "stdout",
          "text": [
            "ACC:  0.44 Recall:  [0.         0.55357143 0.01785714 0.8317757 ] Precision:  [0.         0.49206349 0.125      0.43627451]\n",
            "--------------- Filter feature selection, k = 4\n",
            "ACC:  0.4581818181818182 Recall:  [0.01785714 0.58928571 0.03571429 0.8411215 ] Precision:  [0.33333333 0.53225806 0.22222222 0.44776119]\n",
            "--------------- Filter feature selection, k = 5\n",
            "ACC:  0.4509090909090909 Recall:  [0.         0.51785714 0.05357143 0.85981308] Precision:  [0.         0.48333333 0.23076923 0.47179487]\n",
            "--------------- Filter feature selection, k = 6\n",
            "ACC:  0.4763636363636364 Recall:  [0.01785714 0.66071429 0.         0.86915888] Precision:  [0.125      0.55223881 0.         0.49468085]\n",
            "--------------- Filter feature selection, k = 7\n",
            "ACC:  0.46545454545454545 Recall:  [0.05357143 0.58928571 0.16071429 0.77570093] Precision:  [0.2        0.56896552 0.33333333 0.47428571]\n",
            "--------------- Filter feature selection, k = 8\n",
            "ACC:  0.4909090909090909 Recall:  [0.05357143 0.64285714 0.10714286 0.8411215 ] Precision:  [0.3        0.52941176 0.3        0.50847458]\n",
            "--------------- Filter feature selection, k = 9\n",
            "ACC:  0.46545454545454545 Recall:  [0.03571429 0.625      0.08928571 0.80373832] Precision:  [0.08333333 0.57377049 0.23809524 0.50887574]\n",
            "--------------- Filter feature selection, k = 10\n",
            "ACC:  0.49818181818181817 Recall:  [0.16071429 0.64285714 0.125      0.79439252] Precision:  [0.375      0.59016393 0.36842105 0.49707602]\n"
          ]
        },
        {
          "output_type": "display_data",
          "data": {
            "text/plain": [
              "<Figure size 640x480 with 1 Axes>"
            ],
            "image/png": "[encoded data removed]"
          },
          "metadata": {}
        }
      ]
    },
    {
      "cell_type": "markdown",
      "source": [
        "El mejor coeficiente son 10 características. Por ende, esta son las características suficientes para obtener buenos resultados."
      ],
      "metadata": {
        "id": "iGgi7s_y4kJ2"
      }
    },
    {
      "cell_type": "markdown",
      "source": [
        "###Cognitivas Raúl"
      ],
      "metadata": {
        "id": "_7IbTKczTqfn"
      }
    },
    {
      "cell_type": "code",
      "source": [
        "# Use the filter approach for feature selection\n",
        "ks = np.arange(1, 11, 1)\n",
        "accs = []\n",
        "clf = SVC(kernel='linear')\n",
        "kf = StratifiedKFold(n_splits=5, shuffle = True)\n",
        "for k in ks:\n",
        "    print('--------------- Filter feature selection, k =', k)    \n",
        "\n",
        "    cv_y_test = []\n",
        "    cv_y_pred = []\n",
        "\n",
        "    for train_index, test_index in kf.split(xRc, yRc):\n",
        "    \n",
        "       # Training phase\n",
        "        x_train = xRc[train_index, :]\n",
        "        y_train = yRc[train_index]     \n",
        "\n",
        "        ffs = SelectKBest(mutual_info_classif, k=k)\n",
        "        ffs.fit(x_train, y_train)\n",
        "        x_train = ffs.transform(x_train)\n",
        "\n",
        "        clf.fit(x_train, y_train)\n",
        "\n",
        "        # Test phase\n",
        "        x_test = ffs.transform(xRc[test_index, :])\n",
        "        y_test = yRc[test_index]\n",
        "        y_pred = clf.predict(x_test)\n",
        "    \n",
        "        cv_y_test.append(y_test)\n",
        "        cv_y_pred.append(y_pred)\n",
        "    \n",
        "    acc = accuracy_score(np.concatenate(cv_y_test), np.concatenate(cv_y_pred))\n",
        "    rec = recall_score(np.concatenate(cv_y_test), np.concatenate(cv_y_pred), average = None)\n",
        "    pre = precision_score(np.concatenate(cv_y_test), np.concatenate(cv_y_pred), average = None)\n",
        "\n",
        "    print('ACC: ', acc, 'Recall: ', rec, 'Precision: ', pre)\n",
        "    accs.append(acc)\n",
        "\n",
        "plt.plot(ks, accs)\n",
        "plt.xlabel('k')\n",
        "plt.ylabel('Accuracy')\n",
        "plt.title('Univariate filter for feature selection')\n",
        "plt.show()"
      ],
      "metadata": {
        "colab": {
          "base_uri": "https://localhost:8080/",
          "height": 819
        },
        "id": "QD3D28KCTqf0",
        "outputId": "8e348eb0-9130-4d76-b925-5f42a85e3d2c"
      },
      "execution_count": 23,
      "outputs": [
        {
          "output_type": "stream",
          "name": "stdout",
          "text": [
            "--------------- Filter feature selection, k = 1\n",
            "ACC:  0.5567765567765568 Recall:  [0.07142857 0.76785714 0.17857143 0.9047619 ] Precision:  [0.19047619 0.61428571 0.32258065 0.62913907]\n",
            "--------------- Filter feature selection, k = 2\n",
            "ACC:  0.5604395604395604 Recall:  [0.10714286 0.75       0.19642857 0.8952381 ] Precision:  [0.24       0.71186441 0.26829268 0.63513514]\n",
            "--------------- Filter feature selection, k = 3\n",
            "ACC:  0.6007326007326007 Recall:  [0.25       0.78571429 0.23214286 0.88571429] Precision:  [0.42424242 0.73333333 0.37142857 0.64137931]\n",
            "--------------- Filter feature selection, k = 4\n",
            "ACC:  0.5970695970695971 Recall:  [0.26785714 0.76785714 0.21428571 0.88571429] Precision:  [0.44117647 0.72881356 0.32432432 0.65034965]\n",
            "--------------- Filter feature selection, k = 5\n",
            "ACC:  0.6153846153846154 Recall:  [0.30357143 0.71428571 0.375      0.85714286] Precision:  [0.5483871  0.72727273 0.42857143 0.65217391]\n",
            "--------------- Filter feature selection, k = 6\n",
            "ACC:  0.5860805860805861 Recall:  [0.21428571 0.75       0.25       0.87619048] Precision:  [0.36363636 0.72413793 0.35       0.64788732]\n",
            "--------------- Filter feature selection, k = 7\n",
            "ACC:  0.6043956043956044 Recall:  [0.26785714 0.71428571 0.30357143 0.88571429] Precision:  [0.45454545 0.70175439 0.425      0.65034965]\n",
            "--------------- Filter feature selection, k = 8\n",
            "ACC:  0.5970695970695971 Recall:  [0.21428571 0.75       0.35714286 0.84761905] Precision:  [0.34285714 0.72413793 0.46511628 0.64963504]\n",
            "--------------- Filter feature selection, k = 9\n",
            "ACC:  0.6153846153846154 Recall:  [0.23214286 0.76785714 0.33928571 0.88571429] Precision:  [0.44827586 0.74137931 0.46341463 0.64137931]\n",
            "--------------- Filter feature selection, k = 10\n",
            "ACC:  0.608058608058608 Recall:  [0.28571429 0.73214286 0.35714286 0.84761905] Precision:  [0.4        0.73214286 0.48780488 0.65441176]\n"
          ]
        },
        {
          "output_type": "display_data",
          "data": {
            "text/plain": [
              "<Figure size 640x480 with 1 Axes>"
            ],
            "image/png": "[encoded data removed]"
          },
          "metadata": {}
        }
      ]
    },
    {
      "cell_type": "markdown",
      "source": [
        "El mejor coeficiente son 5 o 9 características. Por ende, esta son las características suficientes para obtener buenos resultados."
      ],
      "metadata": {
        "id": "u5kivtO84pFv"
      }
    },
    {
      "cell_type": "markdown",
      "source": [
        "###Cognitivas vs no cognitivas Antonio"
      ],
      "metadata": {
        "id": "NQPvewkgU5NR"
      }
    },
    {
      "cell_type": "code",
      "source": [
        "# Use the filter approach for feature selection\n",
        "ks = np.arange(1, 11, 1)\n",
        "accs = []\n",
        "clf = SVC(kernel='linear')\n",
        "kf = StratifiedKFold(n_splits=5, shuffle = True)\n",
        "for k in ks:\n",
        "    print('--------------- Filter feature selection, k =', k)    \n",
        "\n",
        "    cv_y_test = []\n",
        "    cv_y_pred = []\n",
        "\n",
        "    for train_index, test_index in kf.split(xAcc, yAcc):\n",
        "    \n",
        "       # Training phase\n",
        "        x_train = xAcc[train_index, :]\n",
        "        y_train = yAcc[train_index]     \n",
        "\n",
        "        ffs = SelectKBest(mutual_info_classif, k=k)\n",
        "        ffs.fit(x_train, y_train)\n",
        "        x_train = ffs.transform(x_train)\n",
        "\n",
        "        clf.fit(x_train, y_train)\n",
        "\n",
        "        # Test phase\n",
        "        x_test = ffs.transform(xAcc[test_index, :])\n",
        "        y_test = yAcc[test_index]\n",
        "        y_pred = clf.predict(x_test)\n",
        "    \n",
        "        cv_y_test.append(y_test)\n",
        "        cv_y_pred.append(y_pred)\n",
        "    \n",
        "    acc = accuracy_score(np.concatenate(cv_y_test), np.concatenate(cv_y_pred))\n",
        "    rec = recall_score(np.concatenate(cv_y_test), np.concatenate(cv_y_pred), average = None)\n",
        "    pre = precision_score(np.concatenate(cv_y_test), np.concatenate(cv_y_pred), average = None)\n",
        "\n",
        "    print('ACC: ', acc, 'Recall: ', rec, 'Precision: ', pre)\n",
        "    accs.append(acc)\n",
        "\n",
        "plt.plot(ks, accs)\n",
        "plt.xlabel('k')\n",
        "plt.ylabel('Accuracy')\n",
        "plt.title('Univariate filter for feature selection')\n",
        "plt.show()"
      ],
      "metadata": {
        "colab": {
          "base_uri": "https://localhost:8080/",
          "height": 819
        },
        "outputId": "77d451e2-c323-4494-f48a-be348f6c5986",
        "id": "Pg-XZ1vAU5NR"
      },
      "execution_count": 24,
      "outputs": [
        {
          "output_type": "stream",
          "name": "stdout",
          "text": [
            "--------------- Filter feature selection, k = 1\n",
            "ACC:  0.6086956521739131 Recall:  [0.9702381 0.0462963] Precision:  [0.61278195 0.5       ]\n",
            "--------------- Filter feature selection, k = 2\n",
            "ACC:  0.6086956521739131 Recall:  [0.91666667 0.12962963] Precision:  [0.62096774 0.5       ]\n",
            "--------------- Filter feature selection, k = 3\n",
            "ACC:  0.6086956521739131 Recall:  [0.9702381 0.0462963] Precision:  [0.61278195 0.5       ]\n",
            "--------------- Filter feature selection, k = 4\n",
            "ACC:  0.6376811594202898 Recall:  [0.82142857 0.35185185] Precision:  [0.66346154 0.55882353]\n",
            "--------------- Filter feature selection, k = 5\n",
            "ACC:  0.6268115942028986 Recall:  [0.88690476 0.22222222] Precision:  [0.63948498 0.55813953]\n",
            "--------------- Filter feature selection, k = 6\n",
            "ACC:  0.6630434782608695 Recall:  [0.88690476 0.31481481] Precision:  [0.66816143 0.64150943]\n",
            "--------------- Filter feature selection, k = 7\n",
            "ACC:  0.6739130434782609 Recall:  [0.82142857 0.44444444] Precision:  [0.6969697  0.61538462]\n",
            "--------------- Filter feature selection, k = 8\n",
            "ACC:  0.6666666666666666 Recall:  [0.81547619 0.43518519] Precision:  [0.69191919 0.6025641 ]\n",
            "--------------- Filter feature selection, k = 9\n",
            "ACC:  0.6413043478260869 Recall:  [0.80952381 0.37962963] Precision:  [0.66995074 0.56164384]\n",
            "--------------- Filter feature selection, k = 10\n",
            "ACC:  0.7137681159420289 Recall:  [0.82142857 0.5462963 ] Precision:  [0.73796791 0.66292135]\n"
          ]
        },
        {
          "output_type": "display_data",
          "data": {
            "text/plain": [
              "<Figure size 640x480 with 1 Axes>"
            ],
            "image/png": "[encoded data removed]"
          },
          "metadata": {}
        }
      ]
    },
    {
      "cell_type": "markdown",
      "source": [
        "El mejor coeficiente son 10 características. Por ende, esta son las características suficientes para obtener buenos resultados."
      ],
      "metadata": {
        "id": "nz4eAoIg4sWU"
      }
    },
    {
      "cell_type": "markdown",
      "source": [
        "###Cognitivas vs no cognitivas MAYRA"
      ],
      "metadata": {
        "id": "_1tPQ0H0U5NS"
      }
    },
    {
      "cell_type": "code",
      "source": [
        "# Use the filter approach for feature selection\n",
        "ks = np.arange(1, 11, 1)\n",
        "accs = []\n",
        "clf = SVC(kernel='linear')\n",
        "kf = StratifiedKFold(n_splits=5, shuffle = True)\n",
        "for k in ks:\n",
        "    print('--------------- Filter feature selection, k =', k)    \n",
        "\n",
        "    cv_y_test = []\n",
        "    cv_y_pred = []\n",
        "\n",
        "    for train_index, test_index in kf.split(xMcc, yMcc):\n",
        "    \n",
        "       # Training phase\n",
        "        x_train = xMcc[train_index, :]\n",
        "        y_train = yMcc[train_index]     \n",
        "\n",
        "        ffs = SelectKBest(mutual_info_classif, k=k)\n",
        "        ffs.fit(x_train, y_train)\n",
        "        x_train = ffs.transform(x_train)\n",
        "\n",
        "        clf.fit(x_train, y_train)\n",
        "\n",
        "        # Test phase\n",
        "        x_test = ffs.transform(xMcc[test_index, :])\n",
        "        y_test = yMcc[test_index]\n",
        "        y_pred = clf.predict(x_test)\n",
        "    \n",
        "        cv_y_test.append(y_test)\n",
        "        cv_y_pred.append(y_pred)\n",
        "    \n",
        "    acc = accuracy_score(np.concatenate(cv_y_test), np.concatenate(cv_y_pred))\n",
        "    rec = recall_score(np.concatenate(cv_y_test), np.concatenate(cv_y_pred), average = None)\n",
        "    pre = precision_score(np.concatenate(cv_y_test), np.concatenate(cv_y_pred), average = None)\n",
        "\n",
        "    print('ACC: ', acc, 'Recall: ', rec, 'Precision: ', pre)\n",
        "    accs.append(acc)\n",
        "\n",
        "plt.plot(ks, accs)\n",
        "plt.xlabel('k')\n",
        "plt.ylabel('Accuracy')\n",
        "plt.title('Univariate filter for feature selection')\n",
        "plt.show()"
      ],
      "metadata": {
        "colab": {
          "base_uri": "https://localhost:8080/",
          "height": 819
        },
        "id": "zyvtLdFiU5NS",
        "outputId": "bc532dd2-8328-4756-b03e-e396af2a2cf2"
      },
      "execution_count": 25,
      "outputs": [
        {
          "output_type": "stream",
          "name": "stdout",
          "text": [
            "--------------- Filter feature selection, k = 1\n",
            "ACC:  0.6181818181818182 Recall:  [0.9702381  0.06542056] Precision:  [0.61977186 0.58333333]\n",
            "--------------- Filter feature selection, k = 2\n",
            "ACC:  0.6181818181818182 Recall:  [0.9702381  0.06542056] Precision:  [0.61977186 0.58333333]\n",
            "--------------- Filter feature selection, k = 3\n",
            "ACC:  0.6036363636363636 Recall:  [0.89285714 0.14953271] Precision:  [0.62240664 0.47058824]\n",
            "--------------- Filter feature selection, k = 4\n",
            "ACC:  0.6836363636363636 Recall:  [0.89880952 0.34579439] Precision:  [0.68325792 0.68518519]\n",
            "--------------- Filter feature selection, k = 5\n",
            "ACC:  0.6581818181818182 Recall:  [0.89285714 0.28971963] Precision:  [0.66371681 0.63265306]\n",
            "--------------- Filter feature selection, k = 6\n",
            "ACC:  0.6472727272727272 Recall:  [0.79761905 0.41121495] Precision:  [0.68020305 0.56410256]\n",
            "--------------- Filter feature selection, k = 7\n",
            "ACC:  0.6581818181818182 Recall:  [0.82142857 0.40186916] Precision:  [0.68316832 0.5890411 ]\n",
            "--------------- Filter feature selection, k = 8\n",
            "ACC:  0.6909090909090909 Recall:  [0.9047619  0.35514019] Precision:  [0.68778281 0.7037037 ]\n",
            "--------------- Filter feature selection, k = 9\n",
            "ACC:  0.6581818181818182 Recall:  [0.79761905 0.43925234] Precision:  [0.69072165 0.58024691]\n",
            "--------------- Filter feature selection, k = 10\n",
            "ACC:  0.6690909090909091 Recall:  [0.82738095 0.42056075] Precision:  [0.69154229 0.60810811]\n"
          ]
        },
        {
          "output_type": "display_data",
          "data": {
            "text/plain": [
              "<Figure size 640x480 with 1 Axes>"
            ],
            "image/png": "[encoded data removed]"
          },
          "metadata": {}
        }
      ]
    },
    {
      "cell_type": "markdown",
      "source": [
        "El mejor coeficiente son 8 características. Por ende, esta son las características suficientes para obtener buenos resultados."
      ],
      "metadata": {
        "id": "9GywcsrO4t6K"
      }
    },
    {
      "cell_type": "markdown",
      "source": [
        "###Cognitivas vs no cognitivas Raúl"
      ],
      "metadata": {
        "id": "MnDgySs_U5NT"
      }
    },
    {
      "cell_type": "code",
      "source": [
        "# Use the filter approach for feature selection\n",
        "ks = np.arange(1, 11, 1)\n",
        "accs = []\n",
        "clf = SVC(kernel='linear')\n",
        "kf = StratifiedKFold(n_splits=5, shuffle = True)\n",
        "for k in ks:\n",
        "    print('--------------- Filter feature selection, k =', k)    \n",
        "\n",
        "    cv_y_test = []\n",
        "    cv_y_pred = []\n",
        "\n",
        "    for train_index, test_index in kf.split(xRcc, yRcc):\n",
        "    \n",
        "       # Training phase\n",
        "        x_train = xRcc[train_index, :]\n",
        "        y_train = yRcc[train_index]     \n",
        "\n",
        "        ffs = SelectKBest(mutual_info_classif, k=k)\n",
        "        ffs.fit(x_train, y_train)\n",
        "        x_train = ffs.transform(x_train)\n",
        "\n",
        "        clf.fit(x_train, y_train)\n",
        "\n",
        "        # Test phase\n",
        "        x_test = ffs.transform(xRcc[test_index, :])\n",
        "        y_test = yRcc[test_index]\n",
        "        y_pred = clf.predict(x_test)\n",
        "    \n",
        "        cv_y_test.append(y_test)\n",
        "        cv_y_pred.append(y_pred)\n",
        "    \n",
        "    acc = accuracy_score(np.concatenate(cv_y_test), np.concatenate(cv_y_pred))\n",
        "    rec = recall_score(np.concatenate(cv_y_test), np.concatenate(cv_y_pred), average = None)\n",
        "    pre = precision_score(np.concatenate(cv_y_test), np.concatenate(cv_y_pred), average = None)\n",
        "\n",
        "    print('ACC: ', acc, 'Recall: ', rec, 'Precision: ', pre)\n",
        "    accs.append(acc)\n",
        "\n",
        "plt.plot(ks, accs)\n",
        "plt.xlabel('k')\n",
        "plt.ylabel('Accuracy')\n",
        "plt.title('Univariate filter for feature selection')\n",
        "plt.show()"
      ],
      "metadata": {
        "colab": {
          "base_uri": "https://localhost:8080/",
          "height": 819
        },
        "id": "lJNw44fFU5NT",
        "outputId": "bba01838-2b18-4ced-ef2f-55cbfbfc679c"
      },
      "execution_count": 26,
      "outputs": [
        {
          "output_type": "stream",
          "name": "stdout",
          "text": [
            "--------------- Filter feature selection, k = 1\n",
            "ACC:  0.7912087912087912 Recall:  [0.79166667 0.79047619] Precision:  [0.85806452 0.70338983]\n",
            "--------------- Filter feature selection, k = 2\n",
            "ACC:  0.8021978021978022 Recall:  [0.80952381 0.79047619] Precision:  [0.86075949 0.72173913]\n",
            "--------------- Filter feature selection, k = 3\n",
            "ACC:  0.7912087912087912 Recall:  [0.80357143 0.77142857] Precision:  [0.8490566  0.71052632]\n",
            "--------------- Filter feature selection, k = 4\n",
            "ACC:  0.7802197802197802 Recall:  [0.7797619  0.78095238] Precision:  [0.85064935 0.68907563]\n",
            "--------------- Filter feature selection, k = 5\n",
            "ACC:  0.7948717948717948 Recall:  [0.80357143 0.78095238] Precision:  [0.85443038 0.71304348]\n",
            "--------------- Filter feature selection, k = 6\n",
            "ACC:  0.7838827838827839 Recall:  [0.79166667 0.77142857] Precision:  [0.84713376 0.69827586]\n",
            "--------------- Filter feature selection, k = 7\n",
            "ACC:  0.7912087912087912 Recall:  [0.79166667 0.79047619] Precision:  [0.85806452 0.70338983]\n",
            "--------------- Filter feature selection, k = 8\n",
            "ACC:  0.7912087912087912 Recall:  [0.80357143 0.77142857] Precision:  [0.8490566  0.71052632]\n",
            "--------------- Filter feature selection, k = 9\n",
            "ACC:  0.8021978021978022 Recall:  [0.82738095 0.76190476] Precision:  [0.84756098 0.73394495]\n",
            "--------------- Filter feature selection, k = 10\n",
            "ACC:  0.7875457875457875 Recall:  [0.79761905 0.77142857] Precision:  [0.84810127 0.70434783]\n"
          ]
        },
        {
          "output_type": "display_data",
          "data": {
            "text/plain": [
              "<Figure size 640x480 with 1 Axes>"
            ],
            "image/png": "[encoded data removed]"
          },
          "metadata": {}
        }
      ]
    },
    {
      "cell_type": "markdown",
      "source": [
        "El mejor coeficiente son 2 o 9 características. Por ende, esta son las características suficientes para obtener buenos resultados."
      ],
      "metadata": {
        "id": "kbGTKFhT4yi2"
      }
    },
    {
      "cell_type": "markdown",
      "source": [
        "##Aprendizaje por transferencia\n",
        "\n",
        "Para esta etapa del proyecto, consideren únicamente los datos del experimento de P300. Para al menos dos clasificadores probados en el paso anterior, entrenen el modelo con uno de los archivos de datos de uno de los sujetos, y prueben dicho modelo con otro de los archivos de datos de otra persona. Reporte el rendimiento del modelo.\n",
        "\n",
        "Conteste las siguientes preguntas:\n",
        "\n",
        "- ¿Es posible entrenar un modelo de clasificación con los datos de un sujeto y obtener buenos resultados con los datos de otro sujeto? ¿Por qué?\n",
        "- ¿Consideras que debes hacer ajustes cuando tengas datos de otro sujeto?"
      ],
      "metadata": {
        "id": "CbHggqEyD3mN"
      }
    },
    {
      "cell_type": "markdown",
      "source": [
        "Clasificador SVM"
      ],
      "metadata": {
        "id": "m_nDTUZoW3dp"
      }
    },
    {
      "cell_type": "code",
      "source": [
        "# Datos de entrenamiento: Antonio\n",
        "X_train = xA\n",
        "y_train = yA\n",
        "\n",
        "# Datos de prueba: Mayra\n",
        "X_test = xM\n",
        "y_test = yM\n",
        "\n",
        "# Creación del modelo SVM radial\n",
        "model = SVC(kernel='rbf')\n",
        "\n",
        "# Entrenamiento del modelo\n",
        "model.fit(X_train, y_train)\n",
        "\n",
        "# Prueba del modelo\n",
        "y_pred = model.predict(X_test)\n",
        "\n",
        "print(classification_report(y_test, y_pred))"
      ],
      "metadata": {
        "colab": {
          "base_uri": "https://localhost:8080/"
        },
        "id": "n80fNHkPWEAZ",
        "outputId": "18778e37-7403-4748-beff-a451c74f1c13"
      },
      "execution_count": 27,
      "outputs": [
        {
          "output_type": "stream",
          "name": "stdout",
          "text": [
            "              precision    recall  f1-score   support\n",
            "\n",
            "           1       0.08      0.02      0.03        92\n",
            "           2       0.79      0.93      0.86       364\n",
            "\n",
            "    accuracy                           0.75       456\n",
            "   macro avg       0.43      0.48      0.45       456\n",
            "weighted avg       0.65      0.75      0.69       456\n",
            "\n"
          ]
        }
      ]
    },
    {
      "cell_type": "markdown",
      "source": [
        "Clasificador KNN"
      ],
      "metadata": {
        "id": "9rb9r5zUW9vh"
      }
    },
    {
      "cell_type": "code",
      "source": [
        "# Datos de entrenamiento: Antonio\n",
        "X_train = xA\n",
        "y_train = yA\n",
        "\n",
        "# Datos de prueba: Mayra\n",
        "X_test = xM\n",
        "y_test = yM\n",
        "\n",
        "# Creación del modelo KNN\n",
        "model = KNeighborsClassifier(n_neighbors = 5)\n",
        "\n",
        "# Entrenamiento del modelo\n",
        "model.fit(X_train, y_train)\n",
        "\n",
        "# Prueba del modelo\n",
        "y_pred = model.predict(X_test)\n",
        "\n",
        "print(classification_report(y_test, y_pred))"
      ],
      "metadata": {
        "colab": {
          "base_uri": "https://localhost:8080/"
        },
        "outputId": "8c4a3f27-bc7e-4f0e-db1e-b65cbdb1626b",
        "id": "l_wo-7ViW9vh"
      },
      "execution_count": 28,
      "outputs": [
        {
          "output_type": "stream",
          "name": "stdout",
          "text": [
            "              precision    recall  f1-score   support\n",
            "\n",
            "           1       0.11      0.02      0.04        92\n",
            "           2       0.79      0.95      0.87       364\n",
            "\n",
            "    accuracy                           0.77       456\n",
            "   macro avg       0.45      0.49      0.45       456\n",
            "weighted avg       0.66      0.77      0.70       456\n",
            "\n"
          ]
        }
      ]
    },
    {
      "cell_type": "markdown",
      "source": [
        "Clasificador Random Forest Classifier"
      ],
      "metadata": {
        "id": "J_vGud9yW-O2"
      }
    },
    {
      "cell_type": "code",
      "source": [
        "# Datos de entrenamiento: Antonio\n",
        "X_train = xA\n",
        "y_train = yA\n",
        "\n",
        "# Datos de prueba: Mayra\n",
        "X_test = xM\n",
        "y_test = yM\n",
        "\n",
        "# Creación del clasificador Random Forest\n",
        "model = RandomForestClassifier()\n",
        "\n",
        "# Entrenamiento del modelo\n",
        "model.fit(X_train, y_train)\n",
        "\n",
        "# Prueba del modelo\n",
        "y_pred = model.predict(X_test)\n",
        "\n",
        "print(classification_report(y_test, y_pred))"
      ],
      "metadata": {
        "colab": {
          "base_uri": "https://localhost:8080/"
        },
        "outputId": "01a94173-7498-4967-cc8f-8a90db8fc310",
        "id": "IvKQVDh6W-O2"
      },
      "execution_count": 29,
      "outputs": [
        {
          "output_type": "stream",
          "name": "stdout",
          "text": [
            "              precision    recall  f1-score   support\n",
            "\n",
            "           1       0.07      0.01      0.02        92\n",
            "           2       0.79      0.96      0.87       364\n",
            "\n",
            "    accuracy                           0.77       456\n",
            "   macro avg       0.43      0.49      0.44       456\n",
            "weighted avg       0.65      0.77      0.70       456\n",
            "\n"
          ]
        }
      ]
    },
    {
      "cell_type": "markdown",
      "source": [
        "\n",
        "- ¿Es posible entrenar un modelo de clasificación con los datos de un sujeto y obtener buenos resultados con los datos de otro sujeto? ¿Por qué?\n",
        "\n",
        "Sí es posible, en un caso en el que las bases de datos estén balanceadas y los sujetos no tengan datos tan dispersos. Sin embargo, este no es el caso y por esto, el accuracy es un poco bajo. Como se puede observar en los 3 modelos de clasificación tenía alrededor de 75 de accuracy, influye mucho que las bases de datos no estén balanceadas, al igual que influye mucho las diferencias que tengan las características y datos de los sujetos.\n",
        "\n",
        "- ¿Consideras que debes hacer ajustes cuando tengas datos de otro sujeto?\n",
        "\n",
        "Sí, se deben hacer varios ajustes para poder tener un buen accuracy. Alguna de esos ajustes son:\n",
        "\n",
        "a) La estandarización y normalización de los datos.\n",
        "\n",
        "b) Utilizar la validación cruzeada.\n",
        "\n",
        "c) Balancear las bases de datos.\n",
        "\n",
        "d) Inferir datos adicionales por medio de la inteligencia artificial.\n",
        "\n",
        "e) Utilizar el aprendizaje por transferencia."
      ],
      "metadata": {
        "id": "vdTVC8WiXfvI"
      }
    }
  ]
}